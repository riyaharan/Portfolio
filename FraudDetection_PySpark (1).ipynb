{
 "cells": [
  {
   "cell_type": "markdown",
   "metadata": {
    "id": "g7Bf9LE0ERzq"
   },
   "source": [
    "# Fraud Detection\n",
    "                                                                                                           "
   ]
  },
  {
   "cell_type": "markdown",
   "metadata": {
    "id": "dOOewCI6ERzw"
   },
   "source": [
    "# 1. Introduction"
   ]
  },
  {
   "cell_type": "markdown",
   "metadata": {
    "id": "La1fNbgrERzx"
   },
   "source": [
    "The aim of this project is to detect fraud in online payment transactions. Online payment fraud is a major concern for businesses as it can result in significant financial losses. Detecting fraud in real-time can help businesses to prevent fraudulent transactions and minimize the financial impact. In this project, I used a dataset from Kaggle, which contains transaction data with information on the transaction amount, customer details, and recipient details\n",
    "\n",
    "Dataset:\n",
    "\n",
    "Online payment transactions dataset was used from kaggle:\n",
    "https://www.kaggle.com/datasets/rupakroy/online-payments-fraud-detection-dataset\n",
    "\n",
    "About the Dataset:\n",
    "\n",
    "The below column reference:\n",
    "\n",
    "- step: represents a unit of time where 1 step equals 1 hour\n",
    "- type: type of online transaction\n",
    "- amount: the amount of the transaction\n",
    "- nameOrig: customer starting the transaction\n",
    "- oldbalanceOrg: balance before the transaction\n",
    "- newbalanceOrig: balance after the transaction\n",
    "- nameDest: recipient of the transaction\n",
    "- oldbalanceDest: initial balance of recipient before the transaction\n",
    "- newbalanceDest: the new balance of recipient after the transaction\n",
    "- isFraud: fraud transaction\n",
    "\n",
    "3.\tHypotheses:\n",
    "The primary hypothesis of this project is that machine learning models can accurately detect fraudulent transactions in online payment data. I will explore the following hypotheses:\n",
    "1.\tFraudulent transactions have different characteristics compared to non-fraudulent transactions.\n",
    "2.\tMachine learning models can accurately classify transactions as fraudulent or non-fraudulent.\n",
    "3.\tCertain transaction features are more important in detecting fraud than others.\n",
    "\n",
    "Planned Analysis:\n",
    "\n",
    "To test the above hypotheses, i performed exploratory data analysis (EDA) to gain insights into the data and identify any patterns or anomalies. I preprocessed the data by cleaning, transforming, and normalizing it.\n",
    "\n",
    "Using distributed technologies for data storage and processing, specifically Hadoop’s HDFS. Further, I have used Spark/Spark MLlib for data analysis and PySpark for coding. The dataset will be split into training and testing sets to avoid overfitting.\n",
    "\n",
    "Next, using a pipeline to streamline the modelling process, which will include transforming categorical data using one-hot encoders. I also vectorized the data using a vector assembler.\n",
    "\n",
    "Further applied three different classification models - logistic regression, random forest, and gradient-boosted trees. I had also tuned the models using different thresholds to reduce the number of false negatives and improve the accuracy of fraud detection.\n",
    "\n",
    "Finally, the models were evaluated using AUC, sensitivity, specificity, and ROC curves to assess their performance and identify the best one for this dataset."
   ]
  },
  {
   "cell_type": "code",
   "execution_count": 1,
   "metadata": {
    "colab": {
     "base_uri": "https://localhost:8080/"
    },
    "execution": {
     "iopub.execute_input": "2023-05-14T14:57:22.151978Z",
     "iopub.status.busy": "2023-05-14T14:57:22.151585Z",
     "iopub.status.idle": "2023-05-14T14:58:09.785770Z",
     "shell.execute_reply": "2023-05-14T14:58:09.784415Z",
     "shell.execute_reply.started": "2023-05-14T14:57:22.151945Z"
    },
    "id": "8Bl4eZvKPS0_",
    "outputId": "8f72625b-cb1b-42e3-ddd0-f72ec7a4215b"
   },
   "outputs": [
    {
     "name": "stdout",
     "output_type": "stream",
     "text": [
      "Collecting pyspark\n",
      "  Downloading pyspark-3.4.0.tar.gz (310.8 MB)\n",
      "\u001b[2K     \u001b[90m━━━━━━━━━━━━━━━━━━━━━━━━━━━━━━━━━━━━━━━\u001b[0m \u001b[32m310.8/310.8 MB\u001b[0m \u001b[31m3.7 MB/s\u001b[0m eta \u001b[36m0:00:00\u001b[0m00:01\u001b[0m00:01\u001b[0m\n",
      "\u001b[?25h  Preparing metadata (setup.py) ... \u001b[?25ldone\n",
      "\u001b[?25hRequirement already satisfied: py4j==0.10.9.7 in /opt/conda/lib/python3.10/site-packages (from pyspark) (0.10.9.7)\n",
      "Building wheels for collected packages: pyspark\n",
      "  Building wheel for pyspark (setup.py) ... \u001b[?25ldone\n",
      "\u001b[?25h  Created wheel for pyspark: filename=pyspark-3.4.0-py2.py3-none-any.whl size=311317146 sha256=7ce113c7a992fdec42736032310545dc12528ba6756394d7503cae6d9b61ce60\n",
      "  Stored in directory: /root/.cache/pip/wheels/7b/1b/4b/3363a1d04368e7ff0d408e57ff57966fcdf00583774e761327\n",
      "Successfully built pyspark\n",
      "Installing collected packages: pyspark\n",
      "Successfully installed pyspark-3.4.0\n",
      "\u001b[33mWARNING: Running pip as the 'root' user can result in broken permissions and conflicting behaviour with the system package manager. It is recommended to use a virtual environment instead: https://pip.pypa.io/warnings/venv\u001b[0m\u001b[33m\n",
      "\u001b[0m"
     ]
    }
   ],
   "source": [
    "!pip install pyspark"
   ]
  },
  {
   "cell_type": "code",
   "execution_count": 2,
   "metadata": {
    "execution": {
     "iopub.execute_input": "2023-05-14T14:58:09.788719Z",
     "iopub.status.busy": "2023-05-14T14:58:09.788372Z",
     "iopub.status.idle": "2023-05-14T14:58:09.874056Z",
     "shell.execute_reply": "2023-05-14T14:58:09.873167Z",
     "shell.execute_reply.started": "2023-05-14T14:58:09.788688Z"
    },
    "id": "Z-9tGm_6ERzx"
   },
   "outputs": [],
   "source": [
    "#Importing libraries\n",
    "from pyspark.sql import SparkSession\n",
    "import pyspark"
   ]
  },
  {
   "cell_type": "code",
   "execution_count": 3,
   "metadata": {
    "execution": {
     "iopub.execute_input": "2023-05-14T14:58:09.875395Z",
     "iopub.status.busy": "2023-05-14T14:58:09.875118Z",
     "iopub.status.idle": "2023-05-14T14:58:15.287857Z",
     "shell.execute_reply": "2023-05-14T14:58:15.286716Z",
     "shell.execute_reply.started": "2023-05-14T14:58:09.875371Z"
    },
    "id": "d4MgJ5N1VyyU"
   },
   "outputs": [
    {
     "name": "stderr",
     "output_type": "stream",
     "text": [
      "Setting default log level to \"WARN\".\n",
      "To adjust logging level use sc.setLogLevel(newLevel). For SparkR, use setLogLevel(newLevel).\n",
      "23/05/14 14:58:13 WARN NativeCodeLoader: Unable to load native-hadoop library for your platform... using builtin-java classes where applicable\n"
     ]
    }
   ],
   "source": [
    "spark = SparkSession.builder.appName('bigd').getOrCreate()"
   ]
  },
  {
   "cell_type": "code",
   "execution_count": 4,
   "metadata": {
    "colab": {
     "base_uri": "https://localhost:8080/",
     "height": 311
    },
    "execution": {
     "iopub.execute_input": "2023-05-14T15:00:02.041601Z",
     "iopub.status.busy": "2023-05-14T15:00:02.040260Z",
     "iopub.status.idle": "2023-05-14T15:00:18.529644Z",
     "shell.execute_reply": "2023-05-14T15:00:18.528524Z",
     "shell.execute_reply.started": "2023-05-14T15:00:02.041556Z"
    },
    "id": "l28S8hhgERzz",
    "outputId": "1ccb3e3d-78a7-4176-9e70-e797e3202800"
   },
   "outputs": [
    {
     "name": "stderr",
     "output_type": "stream",
     "text": [
      "                                                                                \r"
     ]
    }
   ],
   "source": [
    "data = spark.read.csv('/kaggle/input/financial-dataset-for-fraud-detection-in-a-comapny', inferSchema = True, header = True)"
   ]
  },
  {
   "cell_type": "code",
   "execution_count": 5,
   "metadata": {
    "execution": {
     "iopub.execute_input": "2023-05-14T15:00:24.594294Z",
     "iopub.status.busy": "2023-05-14T15:00:24.593690Z",
     "iopub.status.idle": "2023-05-14T15:00:24.605904Z",
     "shell.execute_reply": "2023-05-14T15:00:24.604801Z",
     "shell.execute_reply.started": "2023-05-14T15:00:24.594262Z"
    },
    "id": "4-3JgM2hrs6C"
   },
   "outputs": [],
   "source": [
    "df = data.sample(fraction=0.11)"
   ]
  },
  {
   "cell_type": "code",
   "execution_count": 6,
   "metadata": {
    "execution": {
     "iopub.execute_input": "2023-05-14T15:00:25.078740Z",
     "iopub.status.busy": "2023-05-14T15:00:25.078314Z",
     "iopub.status.idle": "2023-05-14T15:00:26.062198Z",
     "shell.execute_reply": "2023-05-14T15:00:26.061257Z",
     "shell.execute_reply.started": "2023-05-14T15:00:25.078700Z"
    },
    "id": "OVNS9HucERzz"
   },
   "outputs": [
    {
     "name": "stderr",
     "output_type": "stream",
     "text": [
      "/opt/conda/lib/python3.10/site-packages/scipy/__init__.py:146: UserWarning: A NumPy version >=1.16.5 and <1.23.0 is required for this version of SciPy (detected version 1.23.5\n",
      "  warnings.warn(f\"A NumPy version >={np_minversion} and <{np_maxversion}\"\n"
     ]
    }
   ],
   "source": [
    "#importing libraries\n",
    "import pandas as pd\n",
    "import numpy as np\n",
    "from sklearn import preprocessing\n",
    "import matplotlib.pyplot as plt \n",
    "plt.rc(\"font\", size=14)\n",
    "from sklearn.model_selection import train_test_split\n",
    "import seaborn as sns\n",
    "from pyspark.sql.functions import col\n",
    "sns.set(style=\"white\")\n",
    "sns.set(style=\"whitegrid\", color_codes=True)"
   ]
  },
  {
   "cell_type": "code",
   "execution_count": 7,
   "metadata": {
    "colab": {
     "base_uri": "https://localhost:8080/"
    },
    "execution": {
     "iopub.execute_input": "2023-05-14T15:00:26.064242Z",
     "iopub.status.busy": "2023-05-14T15:00:26.063940Z",
     "iopub.status.idle": "2023-05-14T15:00:28.644951Z",
     "shell.execute_reply": "2023-05-14T15:00:28.643972Z",
     "shell.execute_reply.started": "2023-05-14T15:00:26.064217Z"
    },
    "id": "LI9n2wxDERzz",
    "outputId": "bc28b895-a7f8-4f15-c3c2-effd56090d52"
   },
   "outputs": [
    {
     "name": "stderr",
     "output_type": "stream",
     "text": [
      "[Stage 2:>                                                          (0 + 4) / 4]\r"
     ]
    },
    {
     "name": "stdout",
     "output_type": "stream",
     "text": [
      "(699675, 11)\n",
      "['step', 'type', 'amount', 'nameOrig', 'oldbalanceOrg', 'newbalanceOrig', 'nameDest', 'oldbalanceDest', 'newbalanceDest', 'isFraud', 'isFlaggedFraud']\n"
     ]
    },
    {
     "name": "stderr",
     "output_type": "stream",
     "text": [
      "                                                                                \r"
     ]
    }
   ],
   "source": [
    "# Print the shape of DataFrame\n",
    "print((df.count(), len(df.columns)))\n",
    "\n",
    "# Print the column names of DataFrame\n",
    "print(df.columns)"
   ]
  },
  {
   "cell_type": "code",
   "execution_count": 8,
   "metadata": {
    "colab": {
     "base_uri": "https://localhost:8080/"
    },
    "execution": {
     "iopub.execute_input": "2023-05-14T15:00:28.646455Z",
     "iopub.status.busy": "2023-05-14T15:00:28.646067Z",
     "iopub.status.idle": "2023-05-14T15:00:45.185896Z",
     "shell.execute_reply": "2023-05-14T15:00:45.184820Z",
     "shell.execute_reply.started": "2023-05-14T15:00:28.646400Z"
    },
    "id": "DrAlb4j5ERz0",
    "outputId": "872915f5-04ef-489a-b630-5c46bce41927"
   },
   "outputs": [
    {
     "name": "stdout",
     "output_type": "stream",
     "text": [
      "root\n",
      " |-- step: integer (nullable = true)\n",
      " |-- type: string (nullable = true)\n",
      " |-- amount: double (nullable = true)\n",
      " |-- nameOrig: string (nullable = true)\n",
      " |-- oldbalanceOrg: double (nullable = true)\n",
      " |-- newbalanceOrig: double (nullable = true)\n",
      " |-- nameDest: string (nullable = true)\n",
      " |-- oldbalanceDest: double (nullable = true)\n",
      " |-- newbalanceDest: double (nullable = true)\n",
      " |-- isFraud: integer (nullable = true)\n",
      " |-- isFlaggedFraud: integer (nullable = true)\n",
      "\n"
     ]
    },
    {
     "name": "stderr",
     "output_type": "stream",
     "text": [
      "23/05/14 15:00:29 WARN package: Truncated the string representation of a plan since it was too large. This behavior can be adjusted by setting 'spark.sql.debug.maxToStringFields'.\n",
      "[Stage 5:============================================>              (3 + 1) / 4]\r"
     ]
    },
    {
     "name": "stdout",
     "output_type": "stream",
     "text": [
      "+-------+------------------+--------+-----------------+-----------+------------------+------------------+----------+------------------+------------------+--------------------+--------------------+\n",
      "|summary|              step|    type|           amount|   nameOrig|     oldbalanceOrg|    newbalanceOrig|  nameDest|    oldbalanceDest|    newbalanceDest|             isFraud|      isFlaggedFraud|\n",
      "+-------+------------------+--------+-----------------+-----------+------------------+------------------+----------+------------------+------------------+--------------------+--------------------+\n",
      "|  count|            699675|  699675|           699675|     699675|            699675|            699675|    699675|            699675|            699675|              699675|              699675|\n",
      "|   mean|243.52023010683533|    null|179910.4644653872|       null| 838780.2890252324| 859900.8054355079|      null| 1097638.337023671| 1222073.966225195|0.001417801121949...|2.858470003930396E-6|\n",
      "| stddev|142.36101844768734|    null| 602614.572532352|       null|2907307.7075101165|2943043.4104107176|      null|3415166.6297193253|3683832.6625738526| 0.03762702466883279|0.001690699830986...|\n",
      "|    min|                 1| CASH_IN|              0.0|C1000004053|               0.0|               0.0|C100001587|               0.0|               0.0|                   0|                   0|\n",
      "|    max|               742|TRANSFER|     6.98867313E7| C999996999|     5.958504037E7|     4.958504037E7|  M9999977|    3.2819446492E8|    3.2819446492E8|                   1|                   1|\n",
      "+-------+------------------+--------+-----------------+-----------+------------------+------------------+----------+------------------+------------------+--------------------+--------------------+\n",
      "\n"
     ]
    },
    {
     "name": "stderr",
     "output_type": "stream",
     "text": [
      "                                                                                \r"
     ]
    }
   ],
   "source": [
    "# Print the schema of the PySpark DataFrame\n",
    "df.printSchema()\n",
    "\n",
    "# Print the summary statistics of the PySpark DataFrame\n",
    "df.describe().show()"
   ]
  },
  {
   "cell_type": "code",
   "execution_count": 9,
   "metadata": {
    "colab": {
     "base_uri": "https://localhost:8080/"
    },
    "execution": {
     "iopub.execute_input": "2023-05-14T15:00:45.189340Z",
     "iopub.status.busy": "2023-05-14T15:00:45.188952Z",
     "iopub.status.idle": "2023-05-14T15:00:45.235783Z",
     "shell.execute_reply": "2023-05-14T15:00:45.234455Z",
     "shell.execute_reply.started": "2023-05-14T15:00:45.189303Z"
    },
    "id": "nSSbIP2SERz1",
    "outputId": "e25e7c26-5ac0-480d-a7bc-67ad3c580277"
   },
   "outputs": [
    {
     "name": "stdout",
     "output_type": "stream",
     "text": [
      "root\n",
      " |-- step: integer (nullable = true)\n",
      " |-- type: string (nullable = true)\n",
      " |-- amount: float (nullable = true)\n",
      " |-- nameOrig: string (nullable = true)\n",
      " |-- oldbalanceOrg: double (nullable = true)\n",
      " |-- newbalanceOrig: double (nullable = true)\n",
      " |-- nameDest: string (nullable = true)\n",
      " |-- oldbalanceDest: double (nullable = true)\n",
      " |-- newbalanceDest: double (nullable = true)\n",
      " |-- isFraud: integer (nullable = true)\n",
      " |-- isFlaggedFraud: integer (nullable = true)\n",
      "\n"
     ]
    }
   ],
   "source": [
    "#Casting 'amount' to float\n",
    "df = df.withColumn(\"amount\", col(\"amount\").cast(\"float\"))\n",
    "df.printSchema()"
   ]
  },
  {
   "cell_type": "code",
   "execution_count": 10,
   "metadata": {
    "colab": {
     "base_uri": "https://localhost:8080/"
    },
    "execution": {
     "iopub.execute_input": "2023-05-14T15:00:45.237777Z",
     "iopub.status.busy": "2023-05-14T15:00:45.237325Z",
     "iopub.status.idle": "2023-05-14T15:00:45.453456Z",
     "shell.execute_reply": "2023-05-14T15:00:45.452293Z",
     "shell.execute_reply.started": "2023-05-14T15:00:45.237738Z"
    },
    "id": "ms8hdHmYERz1",
    "outputId": "880c26c4-d7d8-48d2-e357-6e4416b617de"
   },
   "outputs": [
    {
     "name": "stdout",
     "output_type": "stream",
     "text": [
      "+----+--------+---------+-----------+-------------+--------------+-----------+--------------+--------------+-------+--------------+\n",
      "|step|    type|   amount|   nameOrig|oldbalanceOrg|newbalanceOrig|   nameDest|oldbalanceDest|newbalanceDest|isFraud|isFlaggedFraud|\n",
      "+----+--------+---------+-----------+-------------+--------------+-----------+--------------+--------------+-------+--------------+\n",
      "|   1|TRANSFER|    181.0|C1305486145|        181.0|           0.0| C553264065|           0.0|           0.0|      1|             0|\n",
      "|   1| PAYMENT|  7107.77| C154988899|     183195.0|     176087.23| M408069119|           0.0|           0.0|      0|             0|\n",
      "|   1|   DEBIT|  5337.77| C712410124|      41720.0|      36382.23| C195600860|       41898.0|      40348.79|      0|             0|\n",
      "|   1|CASH_OUT|229133.94| C905080434|      15325.0|           0.0| C476402209|        5083.0|      51513.44|      0|             0|\n",
      "|   1|   DEBIT|  1065.41|C1959239586|       1817.0|        751.59| C515132998|       10330.0|           0.0|      0|             0|\n",
      "|   1| PAYMENT|  6061.13|C1043358826|        443.0|           0.0|M1558079303|           0.0|           0.0|      0|             0|\n",
      "|   1| PAYMENT|  5885.56| C840514538|          0.0|           0.0|M1804441305|           0.0|           0.0|      0|             0|\n",
      "|   1| PAYMENT|  3295.19| C711197015|     233633.0|     230337.81|M1384454980|           0.0|           0.0|      0|             0|\n",
      "|   1| PAYMENT|  5281.48|C1440738283|     152019.0|     146737.52|M1849015357|           0.0|           0.0|      0|             0|\n",
      "|   1|TRANSFER|  62610.8|C1976401987|      79114.0|       16503.2|C1937962514|         517.0|       8383.29|      0|             0|\n",
      "+----+--------+---------+-----------+-------------+--------------+-----------+--------------+--------------+-------+--------------+\n",
      "only showing top 10 rows\n",
      "\n"
     ]
    }
   ],
   "source": [
    "df.show(10)"
   ]
  },
  {
   "cell_type": "markdown",
   "metadata": {},
   "source": [
    "Counting the number of records in the dataframe for each unique value in the type column"
   ]
  },
  {
   "cell_type": "code",
   "execution_count": 11,
   "metadata": {
    "colab": {
     "base_uri": "https://localhost:8080/"
    },
    "execution": {
     "iopub.execute_input": "2023-05-14T15:00:45.455082Z",
     "iopub.status.busy": "2023-05-14T15:00:45.454703Z",
     "iopub.status.idle": "2023-05-14T15:00:51.000611Z",
     "shell.execute_reply": "2023-05-14T15:00:50.999519Z",
     "shell.execute_reply.started": "2023-05-14T15:00:45.455046Z"
    },
    "id": "8FrihY2QERz1",
    "outputId": "93590a9d-2203-49ce-e904-621a05b5319b"
   },
   "outputs": [
    {
     "name": "stderr",
     "output_type": "stream",
     "text": [
      "[Stage 9:>                                                          (0 + 4) / 4]\r"
     ]
    },
    {
     "name": "stdout",
     "output_type": "stream",
     "text": [
      "+--------+------+\n",
      "|    type| count|\n",
      "+--------+------+\n",
      "|TRANSFER| 58751|\n",
      "| CASH_IN|154112|\n",
      "|CASH_OUT|245269|\n",
      "| PAYMENT|236977|\n",
      "|   DEBIT|  4566|\n",
      "+--------+------+\n",
      "\n"
     ]
    },
    {
     "name": "stderr",
     "output_type": "stream",
     "text": [
      "                                                                                \r"
     ]
    }
   ],
   "source": [
    "from pyspark.sql.functions import count\n",
    "\n",
    "df.groupBy(\"type\").agg(count(\"*\").alias(\"count\")).show()"
   ]
  },
  {
   "cell_type": "code",
   "execution_count": 12,
   "metadata": {
    "colab": {
     "base_uri": "https://localhost:8080/"
    },
    "execution": {
     "iopub.execute_input": "2023-05-14T15:00:51.002104Z",
     "iopub.status.busy": "2023-05-14T15:00:51.001734Z",
     "iopub.status.idle": "2023-05-14T15:00:51.227535Z",
     "shell.execute_reply": "2023-05-14T15:00:51.226485Z",
     "shell.execute_reply.started": "2023-05-14T15:00:51.002062Z"
    },
    "id": "7YkPW___ERz2",
    "outputId": "08d30348-5976-4d6f-d025-2e6a3041ae6a"
   },
   "outputs": [
    {
     "name": "stdout",
     "output_type": "stream",
     "text": [
      "+----+--------+---------+-------------+--------------+--------------+--------------+-------+--------------+\n",
      "|step|    type|   amount|oldbalanceOrg|newbalanceOrig|oldbalanceDest|newbalanceDest|isFraud|isFlaggedFraud|\n",
      "+----+--------+---------+-------------+--------------+--------------+--------------+-------+--------------+\n",
      "|   1|TRANSFER|    181.0|        181.0|           0.0|           0.0|           0.0|      1|             0|\n",
      "|   1| PAYMENT|  7107.77|     183195.0|     176087.23|           0.0|           0.0|      0|             0|\n",
      "|   1|   DEBIT|  5337.77|      41720.0|      36382.23|       41898.0|      40348.79|      0|             0|\n",
      "|   1|CASH_OUT|229133.94|      15325.0|           0.0|        5083.0|      51513.44|      0|             0|\n",
      "|   1|   DEBIT|  1065.41|       1817.0|        751.59|       10330.0|           0.0|      0|             0|\n",
      "|   1| PAYMENT|  6061.13|        443.0|           0.0|           0.0|           0.0|      0|             0|\n",
      "|   1| PAYMENT|  5885.56|          0.0|           0.0|           0.0|           0.0|      0|             0|\n",
      "|   1| PAYMENT|  3295.19|     233633.0|     230337.81|           0.0|           0.0|      0|             0|\n",
      "|   1| PAYMENT|  5281.48|     152019.0|     146737.52|           0.0|           0.0|      0|             0|\n",
      "|   1|TRANSFER|  62610.8|      79114.0|       16503.2|         517.0|       8383.29|      0|             0|\n",
      "|   1| PAYMENT|  3454.08|      9031.96|       5577.88|           0.0|           0.0|      0|             0|\n",
      "|   1|TRANSFER|125872.53|          0.0|           0.0|      348512.0|    3420103.09|      0|             0|\n",
      "|   1|CASH_OUT| 14121.82|          0.0|           0.0|       52679.0|      10963.66|      0|             0|\n",
      "|   1| PAYMENT|  6165.58|      20925.0|      14759.42|           0.0|           0.0|      0|             0|\n",
      "|   1| PAYMENT|  1203.44|      29941.0|      28737.56|           0.0|           0.0|      0|             0|\n",
      "|   1|TRANSFER|330757.03|     103657.0|           0.0|       79676.0|    1254956.07|      0|             0|\n",
      "|   1| PAYMENT|     8.73|      81313.0|      81304.27|           0.0|           0.0|      0|             0|\n",
      "|   1|CASH_OUT|467177.03|     28112.02|           0.0|      975121.0|      22190.99|      0|             0|\n",
      "|   1|CASH_OUT| 81029.86|          0.0|           0.0|      105343.0|       8496.61|      0|             0|\n",
      "|   1|CASH_OUT|193605.38|          0.0|           0.0|     249452.05|           0.0|      0|             0|\n",
      "+----+--------+---------+-------------+--------------+--------------+--------------+-------+--------------+\n",
      "only showing top 20 rows\n",
      "\n"
     ]
    }
   ],
   "source": [
    "#Dropping two object values that aren't useful for the model: nameOrig and nameDest\n",
    "on_pay = df.select([x for x in df.columns if x not in [\"nameOrig\", \"nameDest\"]])\n",
    "on_pay.show()"
   ]
  },
  {
   "cell_type": "markdown",
   "metadata": {
    "id": "NqEj8VnWERz2"
   },
   "source": [
    "### 2. Train/Test Split\n",
    "Performing a random split of the data into training and testing sets, ensuring that the testing set is not used during exploratory data analysis (EDA) to avoid any potential data leakage."
   ]
  },
  {
   "cell_type": "code",
   "execution_count": 13,
   "metadata": {
    "execution": {
     "iopub.execute_input": "2023-05-14T15:00:51.229218Z",
     "iopub.status.busy": "2023-05-14T15:00:51.228621Z",
     "iopub.status.idle": "2023-05-14T15:00:51.253675Z",
     "shell.execute_reply": "2023-05-14T15:00:51.252612Z",
     "shell.execute_reply.started": "2023-05-14T15:00:51.229182Z"
    },
    "id": "b50tum0OERz2"
   },
   "outputs": [],
   "source": [
    "# Split the DataFrame into training and testing sets\n",
    "train_set, test_set = on_pay.randomSplit([0.7, 0.3], seed=64)"
   ]
  },
  {
   "cell_type": "code",
   "execution_count": 14,
   "metadata": {
    "execution": {
     "iopub.execute_input": "2023-05-14T15:00:51.255143Z",
     "iopub.status.busy": "2023-05-14T15:00:51.254798Z",
     "iopub.status.idle": "2023-05-14T15:00:51.345108Z",
     "shell.execute_reply": "2023-05-14T15:00:51.343970Z",
     "shell.execute_reply.started": "2023-05-14T15:00:51.255112Z"
    },
    "id": "3UpztLR0ERz3"
   },
   "outputs": [],
   "source": [
    "# Select the features column from the training set\n",
    "train_x = train_set.select([x for x in train_set.columns if x != \"isFraud\"])\n",
    "\n",
    "# Create a new column for the target variable in the training set\n",
    "train_Y = train_set.withColumn(\"label\", train_set[\"isFraud\"].cast(\"double\")).select(\"label\")"
   ]
  },
  {
   "cell_type": "markdown",
   "metadata": {
    "id": "F89i6_9jERz3"
   },
   "source": [
    "### 3. Data Exploration- EDA\n",
    "\n",
    "I perform EDA on the training set using descriptive statistics and histograms to visualize data distributions. Further, check for unique variables and missing values in the data, and calculate the Pearson correlation matrix to check for correlations between features."
   ]
  },
  {
   "cell_type": "code",
   "execution_count": 15,
   "metadata": {
    "colab": {
     "base_uri": "https://localhost:8080/"
    },
    "execution": {
     "iopub.execute_input": "2023-05-14T15:00:51.350755Z",
     "iopub.status.busy": "2023-05-14T15:00:51.349762Z",
     "iopub.status.idle": "2023-05-14T15:00:51.356564Z",
     "shell.execute_reply": "2023-05-14T15:00:51.355618Z",
     "shell.execute_reply.started": "2023-05-14T15:00:51.350711Z"
    },
    "id": "2tDGjcRVERz3",
    "outputId": "927d13c3-ee6a-40cf-e1fe-1715dc8d8a49"
   },
   "outputs": [
    {
     "name": "stdout",
     "output_type": "stream",
     "text": [
      "root\n",
      " |-- step: integer (nullable = true)\n",
      " |-- type: string (nullable = true)\n",
      " |-- amount: float (nullable = true)\n",
      " |-- oldbalanceOrg: double (nullable = true)\n",
      " |-- newbalanceOrig: double (nullable = true)\n",
      " |-- oldbalanceDest: double (nullable = true)\n",
      " |-- newbalanceDest: double (nullable = true)\n",
      " |-- isFraud: integer (nullable = true)\n",
      " |-- isFlaggedFraud: integer (nullable = true)\n",
      "\n"
     ]
    }
   ],
   "source": [
    "#Schema of the test set\n",
    "train_set.printSchema()"
   ]
  },
  {
   "cell_type": "code",
   "execution_count": 16,
   "metadata": {
    "colab": {
     "base_uri": "https://localhost:8080/"
    },
    "execution": {
     "iopub.execute_input": "2023-05-14T15:00:51.358902Z",
     "iopub.status.busy": "2023-05-14T15:00:51.358185Z",
     "iopub.status.idle": "2023-05-14T15:01:04.165646Z",
     "shell.execute_reply": "2023-05-14T15:01:04.164521Z",
     "shell.execute_reply.started": "2023-05-14T15:00:51.358865Z"
    },
    "id": "jKfzuEnRERz3",
    "outputId": "e157c8e8-8ae2-45dd-e7fc-aa292123b3b0"
   },
   "outputs": [
    {
     "name": "stderr",
     "output_type": "stream",
     "text": [
      "[Stage 13:===========================================>              (3 + 1) / 4]\r"
     ]
    },
    {
     "name": "stdout",
     "output_type": "stream",
     "text": [
      "+-------+------------------+--------+------------------+------------------+-----------------+------------------+------------------+--------------------+--------------------+\n",
      "|summary|              step|    type|            amount|     oldbalanceOrg|   newbalanceOrig|    oldbalanceDest|    newbalanceDest|             isFraud|      isFlaggedFraud|\n",
      "+-------+------------------+--------+------------------+------------------+-----------------+------------------+------------------+--------------------+--------------------+\n",
      "|  count|            489274|  489274|            489274|            489274|           489274|            489274|            489274|              489274|              489274|\n",
      "|   mean|243.53459411291016|    null|180068.02662965318| 836626.2419338452|857608.1992304085|1098939.1681354796|1224190.8351713542|0.001406165052710751|  4.0876891067173E-6|\n",
      "| stddev| 142.4537089078485|    null| 589511.4787971606|2898581.8546327897|2934725.759686364| 3440644.735194276|3708282.7067244006|0.037472531573175455|0.002021801363165804|\n",
      "|    min|                 1| CASH_IN|               0.0|               0.0|              0.0|               0.0|               0.0|                   0|                   0|\n",
      "|    max|               742|TRANSFER|       6.9886728E7|     3.856340141E7|    3.893942403E7|    3.2819446492E8|    3.2819446492E8|                   1|                   1|\n",
      "+-------+------------------+--------+------------------+------------------+-----------------+------------------+------------------+--------------------+--------------------+\n",
      "\n"
     ]
    },
    {
     "name": "stderr",
     "output_type": "stream",
     "text": [
      "                                                                                \r"
     ]
    }
   ],
   "source": [
    "#Descriptive statistics\n",
    "train_set.describe().show()"
   ]
  },
  {
   "cell_type": "markdown",
   "metadata": {},
   "source": [
    "From the output of descriptive stats, it can be observed that the average transaction amount is around 180,068 and the standard deviation is very high at 589,511. We also see that the minimum transaction amount is 0, which could be an indicator of anomalies in the data. The isFraud and isFlaggedFraud columns have very low average values, indicating that there are very few fraudulent transactions in the data."
   ]
  },
  {
   "cell_type": "code",
   "execution_count": 17,
   "metadata": {
    "colab": {
     "base_uri": "https://localhost:8080/",
     "height": 658
    },
    "execution": {
     "iopub.execute_input": "2023-05-14T15:01:04.167783Z",
     "iopub.status.busy": "2023-05-14T15:01:04.166814Z",
     "iopub.status.idle": "2023-05-14T15:01:19.770045Z",
     "shell.execute_reply": "2023-05-14T15:01:19.769002Z",
     "shell.execute_reply.started": "2023-05-14T15:01:04.167744Z"
    },
    "id": "5w489n6XERz4",
    "outputId": "2f6100f6-fa61-4a0f-be75-ab94f92e4fae"
   },
   "outputs": [
    {
     "name": "stderr",
     "output_type": "stream",
     "text": [
      "                                                                                \r"
     ]
    },
    {
     "data": {
      "image/png": "[encoded data removed]",
      "text/plain": [
       "<Figure size 2000x1500 with 9 Axes>"
      ]
     },
     "metadata": {},
     "output_type": "display_data"
    }
   ],
   "source": [
    "# visually inspecting the data with histograms showing bars of frequencies of numeric values grouped in bins.\n",
    "\n",
    "# Convert the PySpark DataFrame to a Pandas DataFrame\n",
    "train_set_pd = train_set.toPandas()\n",
    "\n",
    "# Create the histograms\n",
    "train_set_pd.hist(bins=5, figsize=(20,15), color='#458B74')\n",
    "plt.show()"
   ]
  },
  {
   "cell_type": "code",
   "execution_count": 18,
   "metadata": {
    "colab": {
     "base_uri": "https://localhost:8080/",
     "height": 599
    },
    "execution": {
     "iopub.execute_input": "2023-05-14T15:01:19.772591Z",
     "iopub.status.busy": "2023-05-14T15:01:19.771612Z",
     "iopub.status.idle": "2023-05-14T15:01:32.985942Z",
     "shell.execute_reply": "2023-05-14T15:01:32.984820Z",
     "shell.execute_reply.started": "2023-05-14T15:01:19.772551Z"
    },
    "id": "Z9kKwC9eERz4",
    "outputId": "f7283181-0ba7-4c68-8230-10147bb085f9"
   },
   "outputs": [
    {
     "name": "stderr",
     "output_type": "stream",
     "text": [
      "/tmp/ipykernel_34/2300401680.py:9: UserWarning:                                 \n",
      "\n",
      "`distplot` is a deprecated function and will be removed in seaborn v0.14.0.\n",
      "\n",
      "Please adapt your code to use either `displot` (a figure-level function with\n",
      "similar flexibility) or `histplot` (an axes-level function for histograms).\n",
      "\n",
      "For a guide to updating your code to use the new functions, please see\n",
      "https://gist.github.com/mwaskom/de44147ed2974457ad6372750bbe5751\n",
      "\n",
      "  sns.distplot(amount_pd, bins=5)\n"
     ]
    },
    {
     "data": {
      "image/png": "[encoded data removed]",
      "text/plain": [
       "<Figure size 800x400 with 1 Axes>"
      ]
     },
     "metadata": {},
     "output_type": "display_data"
    }
   ],
   "source": [
    "# Select the 'amount' column from the PySpark DataFrame\n",
    "amount_column = train_x.select(col('amount'))\n",
    "\n",
    "# Convert the PySpark DataFrame to a Pandas DataFrame\n",
    "amount_pd = amount_column.toPandas()\n",
    "\n",
    "# Create the dist plot\n",
    "sns.set(rc={\"figure.figsize\": (8, 4)})\n",
    "sns.distplot(amount_pd, bins=5)\n",
    "plt.show()"
   ]
  },
  {
   "cell_type": "markdown",
   "metadata": {},
   "source": [
    "Keeping in mind that some features may have skewed distributions due to the nature of the data. For example as seen above, the 'amount' column may have many values of 0, indicating that some people may not have any balance. Therefore, it is not appropriate to remove the outliers or deal with skewness here. Instead, it is better to keep in mind the unique characteristics of this dataset and analyze the data as it is."
   ]
  },
  {
   "cell_type": "code",
   "execution_count": 19,
   "metadata": {
    "colab": {
     "base_uri": "https://localhost:8080/"
    },
    "execution": {
     "iopub.execute_input": "2023-05-14T15:01:32.987978Z",
     "iopub.status.busy": "2023-05-14T15:01:32.987648Z",
     "iopub.status.idle": "2023-05-14T15:02:45.421917Z",
     "shell.execute_reply": "2023-05-14T15:02:45.420526Z",
     "shell.execute_reply.started": "2023-05-14T15:01:32.987950Z"
    },
    "id": "9rrrkisHERz4",
    "outputId": "1f8b455d-16ad-4466-c90f-44738117184d"
   },
   "outputs": [
    {
     "name": "stderr",
     "output_type": "stream",
     "text": [
      "                                                                                \r"
     ]
    },
    {
     "name": "stdout",
     "output_type": "stream",
     "text": [
      "step: 607\n"
     ]
    },
    {
     "name": "stderr",
     "output_type": "stream",
     "text": [
      "                                                                                \r"
     ]
    },
    {
     "name": "stdout",
     "output_type": "stream",
     "text": [
      "type: 5\n"
     ]
    },
    {
     "name": "stderr",
     "output_type": "stream",
     "text": [
      "                                                                                \r"
     ]
    },
    {
     "name": "stdout",
     "output_type": "stream",
     "text": [
      "amount: 480469\n"
     ]
    },
    {
     "name": "stderr",
     "output_type": "stream",
     "text": [
      "                                                                                \r"
     ]
    },
    {
     "name": "stdout",
     "output_type": "stream",
     "text": [
      "oldbalanceOrg: 207875\n"
     ]
    },
    {
     "name": "stderr",
     "output_type": "stream",
     "text": [
      "                                                                                \r"
     ]
    },
    {
     "name": "stdout",
     "output_type": "stream",
     "text": [
      "newbalanceOrig: 211575\n"
     ]
    },
    {
     "name": "stderr",
     "output_type": "stream",
     "text": [
      "                                                                                \r"
     ]
    },
    {
     "name": "stdout",
     "output_type": "stream",
     "text": [
      "oldbalanceDest: 280586\n"
     ]
    },
    {
     "name": "stderr",
     "output_type": "stream",
     "text": [
      "                                                                                \r"
     ]
    },
    {
     "name": "stdout",
     "output_type": "stream",
     "text": [
      "newbalanceDest: 298228\n"
     ]
    },
    {
     "name": "stderr",
     "output_type": "stream",
     "text": [
      "[Stage 60:==============>                                           (1 + 3) / 4]\r"
     ]
    },
    {
     "name": "stdout",
     "output_type": "stream",
     "text": [
      "isFlaggedFraud: 2\n"
     ]
    },
    {
     "name": "stderr",
     "output_type": "stream",
     "text": [
      "                                                                                \r"
     ]
    }
   ],
   "source": [
    "# Number of unique values in each variable\n",
    "# Define the list of variables to check\n",
    "variables = train_x.columns\n",
    "\n",
    "# Loop over the variables and print the number of unique values\n",
    "for var in variables:\n",
    "    unique_vals = train_x.select(var).distinct().count()\n",
    "    print(var + \": \" + str(unique_vals))"
   ]
  },
  {
   "cell_type": "code",
   "execution_count": 20,
   "metadata": {
    "colab": {
     "base_uri": "https://localhost:8080/"
    },
    "execution": {
     "iopub.execute_input": "2023-05-14T15:02:45.423616Z",
     "iopub.status.busy": "2023-05-14T15:02:45.423170Z",
     "iopub.status.idle": "2023-05-14T15:02:53.862039Z",
     "shell.execute_reply": "2023-05-14T15:02:53.860973Z",
     "shell.execute_reply.started": "2023-05-14T15:02:45.423576Z"
    },
    "id": "KoFVEVLaERz4",
    "outputId": "fdfaa6f7-b324-4127-c206-a02a1ce428b6"
   },
   "outputs": [
    {
     "name": "stderr",
     "output_type": "stream",
     "text": [
      "[Stage 66:==============>                                           (1 + 3) / 4]\r"
     ]
    },
    {
     "name": "stdout",
     "output_type": "stream",
     "text": [
      "+----+----+------+-------------+--------------+--------------+--------------+--------------+\n",
      "|step|type|amount|oldbalanceOrg|newbalanceOrig|oldbalanceDest|newbalanceDest|isFlaggedFraud|\n",
      "+----+----+------+-------------+--------------+--------------+--------------+--------------+\n",
      "|   0|   0|     0|            0|             0|             0|             0|             0|\n",
      "+----+----+------+-------------+--------------+--------------+--------------+--------------+\n",
      "\n"
     ]
    },
    {
     "name": "stderr",
     "output_type": "stream",
     "text": [
      "                                                                                \r"
     ]
    }
   ],
   "source": [
    "# Counting missing values in each column\n",
    "from pyspark.sql.functions import col, sum\n",
    "missing_count = train_x.select([sum(col(x).isNull().cast(\"int\")).alias(x) for x in train_x.columns])\n",
    "missing_count.show()"
   ]
  },
  {
   "cell_type": "markdown",
   "metadata": {},
   "source": [
    "The datase has no missing values and hence no missing values are handled."
   ]
  },
  {
   "cell_type": "markdown",
   "metadata": {
    "id": "4Yn_-HMHERz4"
   },
   "source": [
    "**Correlations in the data**"
   ]
  },
  {
   "cell_type": "code",
   "execution_count": 21,
   "metadata": {
    "colab": {
     "base_uri": "https://localhost:8080/"
    },
    "execution": {
     "iopub.execute_input": "2023-05-14T15:02:53.863635Z",
     "iopub.status.busy": "2023-05-14T15:02:53.863221Z",
     "iopub.status.idle": "2023-05-14T15:03:24.101792Z",
     "shell.execute_reply": "2023-05-14T15:03:24.100718Z",
     "shell.execute_reply.started": "2023-05-14T15:02:53.863598Z"
    },
    "id": "wioSeM7hERz5",
    "outputId": "e457bec2-f7aa-49f6-9210-14ccdb1fd7f1"
   },
   "outputs": [
    {
     "name": "stderr",
     "output_type": "stream",
     "text": [
      "23/05/14 15:03:23 WARN InstanceBuilder: Failed to load implementation from:dev.ludovic.netlib.blas.JNIBLAS\n"
     ]
    },
    {
     "name": "stdout",
     "output_type": "stream",
     "text": [
      "Pearson correlation matrix:\n",
      "step                     1.000     0.024    -0.009    -0.010     0.027     0.026     0.031     0.006\n",
      "\n",
      "amount                   0.024     1.000    -0.003    -0.008     0.282     0.446     0.082     0.013\n",
      "\n",
      "oldbalanceOrg           -0.009    -0.003     1.000     0.999     0.066     0.043     0.010     0.006\n",
      "\n",
      "newbalanceOrig          -0.010    -0.008     0.999     1.000     0.068     0.042    -0.009     0.005\n",
      "\n",
      "oldbalanceDest           0.027     0.282     0.066     0.068     1.000     0.977    -0.007    -0.001\n",
      "\n",
      "newbalanceDest           0.026     0.446     0.043     0.042     0.977     1.000     0.000    -0.001\n",
      "\n",
      "isFraud                  0.031     0.082     0.010    -0.009    -0.007     0.000     1.000     0.054\n",
      "\n",
      "                         0.006     0.013     0.006     0.005    -0.001    -0.001     0.054     1.000\n",
      "\n"
     ]
    },
    {
     "name": "stderr",
     "output_type": "stream",
     "text": [
      "                                                                                \r"
     ]
    }
   ],
   "source": [
    "from pyspark.ml.stat import Correlation\n",
    "from pyspark.ml.feature import VectorAssembler\n",
    "\n",
    "# drop 'type' column \n",
    "train_set_no_type = train_set.drop('type')\n",
    "\n",
    "# assemble feature vector\n",
    "assembler = VectorAssembler(inputCols=train_set_no_type.columns, outputCol='features')\n",
    "vector_df = assembler.transform(train_set_no_type).select(\"features\")\n",
    "\n",
    "# calculate correlation matrix\n",
    "corr_matrix = Correlation.corr(vector_df, \"features\").head()\n",
    "corr_array = corr_matrix[0].toArray()\n",
    "\n",
    "# create a dictionary of column names\n",
    "columns = train_set_no_type.columns[:-1]\n",
    "columns_dict = dict(zip(range(len(columns)), columns))\n",
    "\n",
    "# print correlation matrix with column names\n",
    "print(\"Pearson correlation matrix:\")\n",
    "for i, row in enumerate(corr_array):\n",
    "    print(\"{:<20}\".format(columns_dict.get(i, '')), end=\"\")\n",
    "    for j, value in enumerate(row):\n",
    "        print(\"{:>10.3f}\".format(value), end=\"\")\n",
    "    print(\"\\n\")"
   ]
  },
  {
   "cell_type": "markdown",
   "metadata": {},
   "source": [
    "- The correlation coefficient between \"amount\" and \"newbalanceDest\" is 0.446, suggesting a moderately strong positive linear relationship between the two variables. \n",
    "\n",
    "- The correlation coefficient between \"oldbalanceOrg\" and \"newbalanceOrig\" is 0.999, which suggests a nearly perfect positive linear relationship between these two variables. This makes sense since the new balance is calculated based on the old balance and any transactions that may have occurred.\n",
    "\n",
    "- The correlation coefficient between \"isFraud\" and \"isFlaggedFraud\" is 0.054, which suggests a weak positive linear relationship between these two variables. This means that there may be some correlation between these two variables, but it is not strong enough to make any definitive conclusions."
   ]
  },
  {
   "cell_type": "markdown",
   "metadata": {
    "id": "r8c2ABHDERz5"
   },
   "source": [
    "### 4. Handling Imbalanced fraud class:\n",
    "\n",
    "Imbalanced fraud class is handled by generating additional samples for the minority class (fraud) to achieve a 60:40 ratio using the VectorAssembler, explode, and lit functions from PySpark, as well as the groupBy, count, filter, and union functions. The resulting balanced dataframe is saved as 'combined_df'."
   ]
  },
  {
   "cell_type": "code",
   "execution_count": 22,
   "metadata": {
    "colab": {
     "base_uri": "https://localhost:8080/"
    },
    "execution": {
     "iopub.execute_input": "2023-05-14T15:03:24.103304Z",
     "iopub.status.busy": "2023-05-14T15:03:24.102922Z",
     "iopub.status.idle": "2023-05-14T15:03:40.614714Z",
     "shell.execute_reply": "2023-05-14T15:03:40.613564Z",
     "shell.execute_reply.started": "2023-05-14T15:03:24.103269Z"
    },
    "id": "ywB3uFmPERz5",
    "outputId": "d5677fcb-92ea-466a-faf8-f2686a0fe2a0"
   },
   "outputs": [
    {
     "name": "stderr",
     "output_type": "stream",
     "text": [
      "[Stage 76:==============>                                           (1 + 3) / 4]\r"
     ]
    },
    {
     "name": "stdout",
     "output_type": "stream",
     "text": [
      "Percentage of Not a fraud is 99.85938349472893\n",
      "Percentage of fraud 0.14061650527107508\n"
     ]
    },
    {
     "name": "stderr",
     "output_type": "stream",
     "text": [
      "                                                                                \r"
     ]
    }
   ],
   "source": [
    "# Classes - Fraud/ No fraud\n",
    "from pyspark.sql.functions import col\n",
    "\n",
    "count_no_fraud = train_set.filter(col(\"isFraud\") == 0).count()\n",
    "count_fraud = train_set.filter(col(\"isFraud\") == 1).count()\n",
    "pct_of_no_frd = count_no_fraud / (count_no_fraud + count_fraud)\n",
    "print(\"Percentage of Not a fraud is\", pct_of_no_frd * 100)\n",
    "pct_of_frd = count_fraud / (count_no_fraud + count_fraud)\n",
    "print(\"Percentage of fraud\", pct_of_frd * 100)"
   ]
  },
  {
   "cell_type": "markdown",
   "metadata": {
    "id": "r7a6abhWERz5"
   },
   "source": [
    "The percentage of non-fraud cases in the original train set is 99.86%, while the percentage of fraud cases is only 0.14%. This shows that the class ratio is highly imbalanced, and therefore, the imbalance of the fraud class needs to be handled."
   ]
  },
  {
   "cell_type": "markdown",
   "metadata": {},
   "source": [
    "**Handling imbalanced class**\n",
    "To handle the imbalanced fraud class, first the number of instances for each class (fraud and non-fraud) is counted. The maximum count is determined, and the number of samples to generate for the minor class is calculated to achieve a 60:40 ratio. The minor class is then filtered, oversampled, and combined with the major class to create a new dataframe with a balanced 'isFraud' class. The new dataframe is named 'combined_df'. This is done using PySpark SQL functions such as col, explode, lit, and array, as well as PySpark ML feature VectorAssembler."
   ]
  },
  {
   "cell_type": "code",
   "execution_count": 23,
   "metadata": {
    "execution": {
     "iopub.execute_input": "2023-05-14T15:03:40.616600Z",
     "iopub.status.busy": "2023-05-14T15:03:40.616176Z",
     "iopub.status.idle": "2023-05-14T15:04:06.671949Z",
     "shell.execute_reply": "2023-05-14T15:04:06.670732Z",
     "shell.execute_reply.started": "2023-05-14T15:03:40.616563Z"
    },
    "id": "iAXD0haBERz5"
   },
   "outputs": [
    {
     "name": "stderr",
     "output_type": "stream",
     "text": [
      "                                                                                \r"
     ]
    }
   ],
   "source": [
    "from pyspark.sql.functions import col, explode, lit\n",
    "from pyspark.sql.functions import array\n",
    "from pyspark.ml.feature import VectorAssembler\n",
    "\n",
    "# count the number of instances for each class\n",
    "counts = train_set.groupBy('isFraud').count()\n",
    "\n",
    "# determine the maximum count\n",
    "max_count = counts.agg({'count': 'max'}).collect()[0][0]\n",
    "\n",
    "# calculate the number of samples to generate for the minor class to achieve a 60:40 ratio\n",
    "fraud_count = counts.filter(col(\"isFraud\") == 1).collect()[0][1]\n",
    "non_fraud_count = counts.filter(col(\"isFraud\") == 0).collect()[0][1]\n",
    "ratio = 0.6\n",
    "min_class_count = int(non_fraud_count * (1 - ratio) / ratio)\n",
    "oversample_ratio = min_class_count // fraud_count\n",
    "\n",
    "# filter the minor class\n",
    "minor_df = train_set.filter(col(\"isFraud\") == 1)\n",
    "\n",
    "# oversample the minor class\n",
    "oversampled_df = minor_df\\\n",
    "    .withColumn(\"dummy\", explode(array([lit(x) for x in range(oversample_ratio)])))\\\n",
    "    .drop('dummy')\n",
    "\n",
    "# combine the oversampled minor class with the major class\n",
    "combined_df = train_set.filter(col(\"isFraud\") == 0).union(oversampled_df)"
   ]
  },
  {
   "cell_type": "markdown",
   "metadata": {},
   "source": [
    "**Calculating the number and % of 'isFraud' instances in both classs after handling the imbalance**"
   ]
  },
  {
   "cell_type": "code",
   "execution_count": 24,
   "metadata": {
    "colab": {
     "base_uri": "https://localhost:8080/"
    },
    "execution": {
     "iopub.execute_input": "2023-05-14T15:04:06.673958Z",
     "iopub.status.busy": "2023-05-14T15:04:06.673536Z",
     "iopub.status.idle": "2023-05-14T15:04:39.507361Z",
     "shell.execute_reply": "2023-05-14T15:04:39.506289Z",
     "shell.execute_reply.started": "2023-05-14T15:04:06.673917Z"
    },
    "id": "fE4QeNCHERz5",
    "outputId": "6fa39ced-71f0-462f-dcc1-8d671ba206c6"
   },
   "outputs": [
    {
     "name": "stderr",
     "output_type": "stream",
     "text": [
      "[Stage 94:=============================>                            (4 + 4) / 8]\r"
     ]
    },
    {
     "name": "stdout",
     "output_type": "stream",
     "text": [
      "Number of no-fraud instances in combined_df is 488586\n",
      "Number of fraud instances in combined_df is 325424\n",
      "Percentage of Not a fraud is 60.02211275045761\n",
      "Percentage of fraud 39.97788724954239\n"
     ]
    },
    {
     "name": "stderr",
     "output_type": "stream",
     "text": [
      "                                                                                \r"
     ]
    }
   ],
   "source": [
    "# count the number of instances for each class in combined_df\n",
    "counts = combined_df.groupBy('isFraud').count()\n",
    "\n",
    "# print the count of fraud and no-fraud instances in combined_df\n",
    "count_no_fraud2 = combined_df.filter(col(\"isFraud\") == 0).count()\n",
    "count_fraud2 = combined_df.filter(col(\"isFraud\") == 1).count()\n",
    "print(\"Number of no-fraud instances in combined_df is\", count_no_fraud2)\n",
    "print(\"Number of fraud instances in combined_df is\", count_fraud2)\n",
    "pct_of_no_frd2 = count_no_fraud2 / (count_no_fraud2 + count_fraud2)\n",
    "print(\"Percentage of Not a fraud is\", pct_of_no_frd2 * 100)\n",
    "pct_of_frd2 = count_fraud2 / (count_no_fraud2 + count_fraud2)\n",
    "print(\"Percentage of fraud\", pct_of_frd2 * 100)"
   ]
  },
  {
   "cell_type": "code",
   "execution_count": 25,
   "metadata": {
    "colab": {
     "base_uri": "https://localhost:8080/"
    },
    "execution": {
     "iopub.execute_input": "2023-05-14T15:04:39.508901Z",
     "iopub.status.busy": "2023-05-14T15:04:39.508532Z",
     "iopub.status.idle": "2023-05-14T15:04:39.514518Z",
     "shell.execute_reply": "2023-05-14T15:04:39.513757Z",
     "shell.execute_reply.started": "2023-05-14T15:04:39.508866Z"
    },
    "id": "cYrmeZBqERz5",
    "outputId": "aae49dc2-511c-480c-a30f-ffcb8145c5b3"
   },
   "outputs": [
    {
     "name": "stdout",
     "output_type": "stream",
     "text": [
      "root\n",
      " |-- step: integer (nullable = true)\n",
      " |-- type: string (nullable = true)\n",
      " |-- amount: float (nullable = true)\n",
      " |-- oldbalanceOrg: double (nullable = true)\n",
      " |-- newbalanceOrig: double (nullable = true)\n",
      " |-- oldbalanceDest: double (nullable = true)\n",
      " |-- newbalanceDest: double (nullable = true)\n",
      " |-- isFraud: integer (nullable = true)\n",
      " |-- isFlaggedFraud: integer (nullable = true)\n",
      "\n"
     ]
    }
   ],
   "source": [
    "combined_df.printSchema()"
   ]
  },
  {
   "cell_type": "markdown",
   "metadata": {
    "id": "Km_UfTBSERz6"
   },
   "source": [
    "# 5. PreProcessing: "
   ]
  },
  {
   "cell_type": "code",
   "execution_count": 26,
   "metadata": {
    "execution": {
     "iopub.execute_input": "2023-05-14T15:04:39.516070Z",
     "iopub.status.busy": "2023-05-14T15:04:39.515773Z",
     "iopub.status.idle": "2023-05-14T15:04:39.569769Z",
     "shell.execute_reply": "2023-05-14T15:04:39.568882Z",
     "shell.execute_reply.started": "2023-05-14T15:04:39.516045Z"
    },
    "id": "akIEi07LERz6"
   },
   "outputs": [],
   "source": [
    "# Select the features column from the training set\n",
    "train_x_df = combined_df.select([x for x in combined_df.columns if x != \"isFraud\"])\n",
    "\n",
    "# Create a new column for the target variable in the training set\n",
    "train_y_df = combined_df.withColumn(\"label\", combined_df[\"isFraud\"].cast(\"double\")).select(\"label\")"
   ]
  },
  {
   "cell_type": "code",
   "execution_count": 27,
   "metadata": {
    "colab": {
     "base_uri": "https://localhost:8080/"
    },
    "execution": {
     "iopub.execute_input": "2023-05-14T15:04:39.570946Z",
     "iopub.status.busy": "2023-05-14T15:04:39.570616Z",
     "iopub.status.idle": "2023-05-14T15:04:39.576745Z",
     "shell.execute_reply": "2023-05-14T15:04:39.575754Z",
     "shell.execute_reply.started": "2023-05-14T15:04:39.570921Z"
    },
    "id": "PhA4hvbNERz6",
    "outputId": "8e015f91-887a-4bd9-817a-b4c7237005aa"
   },
   "outputs": [
    {
     "name": "stdout",
     "output_type": "stream",
     "text": [
      "root\n",
      " |-- step: integer (nullable = true)\n",
      " |-- type: string (nullable = true)\n",
      " |-- amount: float (nullable = true)\n",
      " |-- oldbalanceOrg: double (nullable = true)\n",
      " |-- newbalanceOrig: double (nullable = true)\n",
      " |-- oldbalanceDest: double (nullable = true)\n",
      " |-- newbalanceDest: double (nullable = true)\n",
      " |-- isFlaggedFraud: integer (nullable = true)\n",
      "\n"
     ]
    }
   ],
   "source": [
    "train_x_df.printSchema()"
   ]
  },
  {
   "cell_type": "code",
   "execution_count": 28,
   "metadata": {
    "colab": {
     "base_uri": "https://localhost:8080/"
    },
    "execution": {
     "iopub.execute_input": "2023-05-14T15:04:39.578500Z",
     "iopub.status.busy": "2023-05-14T15:04:39.578164Z",
     "iopub.status.idle": "2023-05-14T15:04:39.591640Z",
     "shell.execute_reply": "2023-05-14T15:04:39.590400Z",
     "shell.execute_reply.started": "2023-05-14T15:04:39.578471Z"
    },
    "id": "rT5ZUx1zERz6",
    "outputId": "df28945f-ac25-44cb-af81-f09376d33c8f"
   },
   "outputs": [
    {
     "name": "stdout",
     "output_type": "stream",
     "text": [
      "root\n",
      " |-- label: double (nullable = true)\n",
      "\n"
     ]
    }
   ],
   "source": [
    "train_y_df.printSchema()"
   ]
  },
  {
   "cell_type": "markdown",
   "metadata": {
    "id": "J9jk9Xr_ER0C"
   },
   "source": [
    "Data needs to be in higher tails - and henece can't be removed through outliers."
   ]
  },
  {
   "cell_type": "code",
   "execution_count": 29,
   "metadata": {
    "colab": {
     "base_uri": "https://localhost:8080/"
    },
    "execution": {
     "iopub.execute_input": "2023-05-14T15:04:39.593934Z",
     "iopub.status.busy": "2023-05-14T15:04:39.593348Z",
     "iopub.status.idle": "2023-05-14T15:05:11.691134Z",
     "shell.execute_reply": "2023-05-14T15:05:11.690049Z",
     "shell.execute_reply.started": "2023-05-14T15:04:39.593898Z"
    },
    "id": "1HKv74OoER0D",
    "outputId": "60f60b46-3c58-4f0e-f0d9-1cff6a653c7d"
   },
   "outputs": [
    {
     "name": "stderr",
     "output_type": "stream",
     "text": [
      "                                                                                \r"
     ]
    },
    {
     "name": "stdout",
     "output_type": "stream",
     "text": [
      "train_x_df shape: (814010, 8)\n"
     ]
    },
    {
     "name": "stderr",
     "output_type": "stream",
     "text": [
      "[Stage 100:============================>                            (4 + 4) / 8]\r"
     ]
    },
    {
     "name": "stdout",
     "output_type": "stream",
     "text": [
      "train_y_df shape: (814010, 1)\n"
     ]
    },
    {
     "name": "stderr",
     "output_type": "stream",
     "text": [
      "                                                                                \r"
     ]
    }
   ],
   "source": [
    "# Check the number of rows and columns in train_x_df\n",
    "print(\"train_x_df shape:\", (train_x_df.count(), len(train_x_df.columns)))\n",
    "\n",
    "# Check the number of rows in train_y_df\n",
    "print(\"train_y_df shape:\", (train_y_df.count(), len(train_y_df.columns)))"
   ]
  },
  {
   "cell_type": "markdown",
   "metadata": {
    "id": "Dd4RnEU6ER0D"
   },
   "source": [
    "#### 5.1 Pipeline and Tranformations\n",
    "\n",
    "Pipeline is defined to transform the input data into features suitable for the models. Two separate pipelines are defined, one for categorical data and one for numerical data. The categorical pipeline encodes the \"type\" column using StringIndexer and OneHotEncoder. The numerical pipeline assembles the selected numerical columns into a vector, scaling the features using StandardScaler, and producing the final features in a column named \"scaled_features\". \n",
    "\n",
    "The two pipelines are combined to create a final Pipeline object which is then fitted on the input data. The transformed output is produced by applying this Pipeline to the input data using the transform method."
   ]
  },
  {
   "cell_type": "code",
   "execution_count": 30,
   "metadata": {
    "execution": {
     "iopub.execute_input": "2023-05-14T15:05:11.692794Z",
     "iopub.status.busy": "2023-05-14T15:05:11.692364Z",
     "iopub.status.idle": "2023-05-14T15:05:26.457302Z",
     "shell.execute_reply": "2023-05-14T15:05:26.456088Z",
     "shell.execute_reply.started": "2023-05-14T15:05:11.692757Z"
    },
    "id": "DPZzqYHeT4kl"
   },
   "outputs": [
    {
     "name": "stderr",
     "output_type": "stream",
     "text": [
      "                                                                                \r"
     ]
    }
   ],
   "source": [
    "from pyspark.ml import Pipeline\n",
    "from pyspark.sql.types import DoubleType\n",
    "from pyspark.ml.feature import VectorAssembler, StandardScaler, StringIndexer, OneHotEncoder\n",
    "\n",
    "# categorical pipeline\n",
    "indexer = StringIndexer(inputCol=\"type\", outputCol=\"typeIndex\")\n",
    "encoder = OneHotEncoder(inputCols=[\"typeIndex\"], outputCols=[\"typeVec\"])\n",
    "cat_pipeline = Pipeline(stages=[indexer, encoder])\n",
    "\n",
    "# numerical pipeline\n",
    "num_cols = [col for col, dtype in train_x_df.dtypes if dtype == \"double\" or dtype == \"int\" and col not in [\"isFraud\", \"isFlaggedFraud\"]]\n",
    "num_cols.append('typeVec')\n",
    "assembler = VectorAssembler(inputCols=num_cols, outputCol=\"num_features\")\n",
    "scaler = StandardScaler(inputCol=\"num_features\", outputCol=\"scaled_features\", withStd=True, withMean=False)\n",
    "num_pipeline = Pipeline(stages=[assembler, scaler])\n",
    "\n",
    "# combined pipeline\n",
    "pipeline = Pipeline(stages=[cat_pipeline, num_pipeline])\n",
    "pipeline = pipeline.fit(on_pay)\n",
    "\n",
    "# fit the pipeline on train_x to transform the data\n",
    "transformed_train_x = pipeline.transform(combined_df)"
   ]
  },
  {
   "cell_type": "code",
   "execution_count": 31,
   "metadata": {
    "colab": {
     "base_uri": "https://localhost:8080/"
    },
    "execution": {
     "iopub.execute_input": "2023-05-14T15:05:26.458877Z",
     "iopub.status.busy": "2023-05-14T15:05:26.458503Z",
     "iopub.status.idle": "2023-05-14T15:05:26.473404Z",
     "shell.execute_reply": "2023-05-14T15:05:26.472167Z",
     "shell.execute_reply.started": "2023-05-14T15:05:26.458842Z"
    },
    "id": "sTMXjO4YbBZB",
    "outputId": "63c8a1ad-f07d-4263-d756-246e90ad1130"
   },
   "outputs": [
    {
     "name": "stdout",
     "output_type": "stream",
     "text": [
      "root\n",
      " |-- step: integer (nullable = true)\n",
      " |-- type: string (nullable = true)\n",
      " |-- amount: float (nullable = true)\n",
      " |-- oldbalanceOrg: double (nullable = true)\n",
      " |-- newbalanceOrig: double (nullable = true)\n",
      " |-- oldbalanceDest: double (nullable = true)\n",
      " |-- newbalanceDest: double (nullable = true)\n",
      " |-- isFraud: integer (nullable = true)\n",
      " |-- isFlaggedFraud: integer (nullable = true)\n",
      " |-- typeIndex: double (nullable = false)\n",
      " |-- typeVec: vector (nullable = true)\n",
      " |-- num_features: vector (nullable = true)\n",
      " |-- scaled_features: vector (nullable = true)\n",
      "\n"
     ]
    }
   ],
   "source": [
    "transformed_train_x.printSchema()"
   ]
  },
  {
   "cell_type": "code",
   "execution_count": 32,
   "metadata": {
    "colab": {
     "base_uri": "https://localhost:8080/"
    },
    "execution": {
     "iopub.execute_input": "2023-05-14T15:05:26.476172Z",
     "iopub.status.busy": "2023-05-14T15:05:26.475451Z",
     "iopub.status.idle": "2023-05-14T15:05:43.054489Z",
     "shell.execute_reply": "2023-05-14T15:05:43.053731Z",
     "shell.execute_reply.started": "2023-05-14T15:05:26.476134Z"
    },
    "id": "289GVIcXBQI9",
    "outputId": "37c5d2f5-3c1f-4d80-c6b7-b6e996d36b45"
   },
   "outputs": [
    {
     "name": "stderr",
     "output_type": "stream",
     "text": [
      "[Stage 109:============================>                            (4 + 4) / 8]\r"
     ]
    },
    {
     "name": "stdout",
     "output_type": "stream",
     "text": [
      "+-------+------+\n",
      "|isFraud| count|\n",
      "+-------+------+\n",
      "|      0|488586|\n",
      "|      1|325424|\n",
      "+-------+------+\n",
      "\n"
     ]
    },
    {
     "name": "stderr",
     "output_type": "stream",
     "text": [
      "                                                                                \r"
     ]
    }
   ],
   "source": [
    "fraud_count = transformed_train_x.groupBy('isFraud').count()\n",
    "fraud_count.show()"
   ]
  },
  {
   "cell_type": "code",
   "execution_count": 33,
   "metadata": {
    "colab": {
     "base_uri": "https://localhost:8080/"
    },
    "execution": {
     "iopub.execute_input": "2023-05-14T15:05:43.061519Z",
     "iopub.status.busy": "2023-05-14T15:05:43.060463Z",
     "iopub.status.idle": "2023-05-14T15:05:47.578968Z",
     "shell.execute_reply": "2023-05-14T15:05:47.578136Z",
     "shell.execute_reply.started": "2023-05-14T15:05:43.061487Z"
    },
    "id": "IA3yKBLKbHyJ",
    "outputId": "a3db76d6-5623-48ff-d165-200bfdf5db9e"
   },
   "outputs": [
    {
     "name": "stderr",
     "output_type": "stream",
     "text": [
      "[Stage 112:>                                                        (0 + 1) / 1]\r"
     ]
    },
    {
     "name": "stdout",
     "output_type": "stream",
     "text": [
      "+----+-------+---------+-------------+--------------+--------------+--------------+-------+--------------+---------+-------------+--------------------+--------------------+\n",
      "|step|   type|   amount|oldbalanceOrg|newbalanceOrig|oldbalanceDest|newbalanceDest|isFraud|isFlaggedFraud|typeIndex|      typeVec|        num_features|     scaled_features|\n",
      "+----+-------+---------+-------------+--------------+--------------+--------------+-------+--------------+---------+-------------+--------------------+--------------------+\n",
      "|   1|CASH_IN|  7322.98|   6681389.66|    6688712.64|       64966.0|      57643.02|      0|             0|      2.0|(4,[2],[1.0])|[1.0,6681389.66,6...|[0.00702439481610...|\n",
      "|   1|CASH_IN| 24936.34|   4824116.71|    4849053.05|      104408.0|      42450.71|      0|             0|      2.0|(4,[2],[1.0])|[1.0,4824116.71,4...|[0.00702439481610...|\n",
      "|   1|CASH_IN|  26295.3|   8723514.56|    8749809.86| 1.391505995E7| 1.687464309E7|      0|             0|      2.0|(4,[2],[1.0])|[1.0,8723514.56,8...|[0.00702439481610...|\n",
      "|   1|CASH_IN| 30811.56|   7243810.89|    7274622.45|      152178.0|     651524.92|      0|             0|      2.0|(4,[2],[1.0])|[1.0,7243810.89,7...|[0.00702439481610...|\n",
      "|   1|CASH_IN| 42198.41|    406594.14|     448792.55|      49029.24|       6830.83|      0|             0|      2.0|(4,[2],[1.0])|[1.0,406594.14,44...|[0.00702439481610...|\n",
      "|   1|CASH_IN| 62455.76|    582158.41|     644614.17|     171158.16|      16518.36|      0|             0|      2.0|(4,[2],[1.0])|[1.0,582158.41,64...|[0.00702439481610...|\n",
      "|   1|CASH_IN| 63189.26|   8414890.75|     8478080.0|      101925.0|           0.0|      0|             0|      2.0|(4,[2],[1.0])|[1.0,8414890.75,8...|[0.00702439481610...|\n",
      "|   1|CASH_IN| 65591.87|   4997957.17|    5063549.04|      82589.09|      16997.22|      0|             0|      2.0|(4,[2],[1.0])|[1.0,4997957.17,5...|[0.00702439481610...|\n",
      "|   1|CASH_IN| 75162.99|   3024570.17|    3099733.16|     353532.56|      53743.06|      0|             0|      2.0|(4,[2],[1.0])|[1.0,3024570.17,3...|[0.00702439481610...|\n",
      "|   1|CASH_IN| 89327.65|    943628.44|    1032956.09|    2063442.28|    3940085.21|      0|             0|      2.0|(4,[2],[1.0])|[1.0,943628.44,10...|[0.00702439481610...|\n",
      "|   1|CASH_IN| 100127.4|   5226746.02|    5326873.42|      209548.6|     109421.19|      0|             0|      2.0|(4,[2],[1.0])|[1.0,5226746.02,5...|[0.00702439481610...|\n",
      "|   1|CASH_IN| 135665.1|   3601412.53|    3737077.62|     248817.48|     379539.92|      0|             0|      2.0|(4,[2],[1.0])|[1.0,3601412.53,3...|[0.00702439481610...|\n",
      "|   1|CASH_IN| 155075.4|   6356409.58|    6511484.99|    1035098.36|           0.0|      0|             0|      2.0|(4,[2],[1.0])|[1.0,6356409.58,6...|[0.00702439481610...|\n",
      "|   1|CASH_IN|170207.14|   8335475.31|    8505682.45|     259513.13|           0.0|      0|             0|      2.0|(4,[2],[1.0])|[1.0,8335475.31,8...|[0.00702439481610...|\n",
      "|   1|CASH_IN|173842.23|    5674131.0|    5847973.23|     231914.67|       66575.5|      0|             0|      2.0|(4,[2],[1.0])|[1.0,5674131.0,58...|[0.00702439481610...|\n",
      "|   1|CASH_IN|174413.77|   6491800.66|    6666214.43|     213713.99|      46393.85|      0|             0|      2.0|(4,[2],[1.0])|[1.0,6491800.66,6...|[0.00702439481610...|\n",
      "|   1|CASH_IN|189595.83|   7007545.23|    7197141.06|     254271.98|    4891090.56|      0|             0|      2.0|(4,[2],[1.0])|[1.0,7007545.23,7...|[0.00702439481610...|\n",
      "|   1|CASH_IN|193448.55|    3826836.0|    4020284.55|    1875536.09|    1412484.09|      0|             0|      2.0|(4,[2],[1.0])|[1.0,3826836.0,40...|[0.00702439481610...|\n",
      "|   1|CASH_IN|193492.69|    706457.23|     899949.91|    1247284.13|      55974.56|      0|             0|      2.0|(4,[2],[1.0])|[1.0,706457.23,89...|[0.00702439481610...|\n",
      "|   1|CASH_IN| 214851.4|   8097880.27|    8312731.68|     939718.63|    1517262.16|      0|             0|      2.0|(4,[2],[1.0])|[1.0,8097880.27,8...|[0.00702439481610...|\n",
      "+----+-------+---------+-------------+--------------+--------------+--------------+-------+--------------+---------+-------------+--------------------+--------------------+\n",
      "only showing top 20 rows\n",
      "\n"
     ]
    },
    {
     "name": "stderr",
     "output_type": "stream",
     "text": [
      "                                                                                \r"
     ]
    }
   ],
   "source": [
    "transformed_train_x.show()"
   ]
  },
  {
   "cell_type": "markdown",
   "metadata": {
    "id": "Nnht2eamER0F"
   },
   "source": [
    "### 6. Applying Models"
   ]
  },
  {
   "cell_type": "markdown",
   "metadata": {
    "id": "xnAtCXUj9621"
   },
   "source": [
    "**Transforming Test Set:**\n",
    "\n",
    "\n",
    "As it's important to apply the same transformations to the test set as were applied to the training set, so that the test set is preprocessed in the same way and can be used to evaluate the performance of the model trained on the transformed training set. "
   ]
  },
  {
   "cell_type": "code",
   "execution_count": 35,
   "metadata": {
    "colab": {
     "base_uri": "https://localhost:8080/"
    },
    "execution": {
     "iopub.execute_input": "2023-05-14T15:05:51.859944Z",
     "iopub.status.busy": "2023-05-14T15:05:51.859669Z",
     "iopub.status.idle": "2023-05-14T15:05:56.453327Z",
     "shell.execute_reply": "2023-05-14T15:05:56.452517Z",
     "shell.execute_reply.started": "2023-05-14T15:05:51.859921Z"
    },
    "id": "QFRWVA6PER0F",
    "outputId": "3ccedb90-0f98-4b2a-a602-1284aaf14339"
   },
   "outputs": [
    {
     "name": "stderr",
     "output_type": "stream",
     "text": [
      "[Stage 114:>                                                        (0 + 1) / 1]\r"
     ]
    },
    {
     "name": "stdout",
     "output_type": "stream",
     "text": [
      "+----+--------+---------+-------------+--------------+--------------+--------------+-------+--------------+---------+-------------+--------------------+--------------------+\n",
      "|step|    type|   amount|oldbalanceOrg|newbalanceOrig|oldbalanceDest|newbalanceDest|isFraud|isFlaggedFraud|typeIndex|      typeVec|        num_features|     scaled_features|\n",
      "+----+--------+---------+-------------+--------------+--------------+--------------+-------+--------------+---------+-------------+--------------------+--------------------+\n",
      "|   1| CASH_IN|   863.08|   9290756.54|    9291619.62|       5577.88|        4714.8|      0|             0|      2.0|(4,[2],[1.0])|[1.0,9290756.54,9...|[0.00702439481610...|\n",
      "|   1| CASH_IN|  1076.27|   3538789.28|    3539865.55|      22774.25|      23539.55|      0|             0|      2.0|(4,[2],[1.0])|[1.0,3538789.28,3...|[0.00702439481610...|\n",
      "|   1| CASH_IN| 60215.46|   1032511.32|    1092726.78|      83172.04|           0.0|      0|             0|      2.0|(4,[2],[1.0])|[1.0,1032511.32,1...|[0.00702439481610...|\n",
      "|   1| CASH_IN| 62325.15|    960786.56|    1023111.71|    1880271.66|    1254956.07|      0|             0|      2.0|(4,[2],[1.0])|[1.0,960786.56,10...|[0.00702439481610...|\n",
      "|   1| CASH_IN| 62983.91|   6910839.59|     6973823.5|     454778.18|    1363368.51|      0|             0|      2.0|(4,[2],[1.0])|[1.0,6910839.59,6...|[0.00702439481610...|\n",
      "|   1| CASH_IN| 65413.89|    131622.46|     197036.35|      144605.0|           0.0|      0|             0|      2.0|(4,[2],[1.0])|[1.0,131622.46,19...|[0.00702439481610...|\n",
      "|   1| CASH_IN| 85584.66|    435433.91|     521018.57|     736780.84|     424250.45|      0|             0|      2.0|(4,[2],[1.0])|[1.0,435433.91,52...|[0.00702439481610...|\n",
      "|   1| CASH_IN|170686.08|    350501.24|     521187.32|     273169.81|      69756.86|      0|             0|      2.0|(4,[2],[1.0])|[1.0,350501.24,52...|[0.00702439481610...|\n",
      "|   1| CASH_IN| 184547.7|    4041430.1|     4225977.8|    2209646.36|    2025098.66|      0|             0|      2.0|(4,[2],[1.0])|[1.0,4041430.1,42...|[0.00702439481610...|\n",
      "|   1| CASH_IN| 236747.6|   7622040.12|    7858787.73|     390963.21|           0.0|      0|             0|      2.0|(4,[2],[1.0])|[1.0,7622040.12,7...|[0.00702439481610...|\n",
      "|   1| CASH_IN| 240680.1|    165914.04|     406594.14|    4860478.66|    4619798.56|      0|             0|      2.0|(4,[2],[1.0])|[1.0,165914.04,40...|[0.00702439481610...|\n",
      "|   1| CASH_IN|276772.03|   8285187.59|    8561959.61| 1.944597695E7| 1.916920493E7|      0|             0|      2.0|(4,[2],[1.0])|[1.0,8285187.59,8...|[0.00702439481610...|\n",
      "|   1| CASH_IN| 414238.6|    529389.85|     943628.44|     808520.46|      16518.36|      0|             0|      2.0|(4,[2],[1.0])|[1.0,529389.85,94...|[0.00702439481610...|\n",
      "|   1| CASH_IN| 551607.7|   3722697.43|    4274305.14|    2646673.85|    2025098.66|      0|             0|      2.0|(4,[2],[1.0])|[1.0,3722697.43,4...|[0.00702439481610...|\n",
      "|   1| CASH_IN| 632840.5|   8657916.04|    9290756.54|    6498873.04|    5515763.34|      0|             0|      2.0|(4,[2],[1.0])|[1.0,8657916.04,9...|[0.00702439481610...|\n",
      "|   1|CASH_OUT|  9980.32|      12936.0|       2955.68|           0.0|       9980.32|      0|             0|      0.0|(4,[0],[1.0])|[1.0,12936.0,2955...|[0.00702439481610...|\n",
      "|   1|CASH_OUT| 25071.46|     25071.46|           0.0|       9083.76|      34155.22|      1|             0|      0.0|(4,[0],[1.0])|[1.0,25071.46,0.0...|[0.00702439481610...|\n",
      "|   1|CASH_OUT| 57279.11|          0.0|           0.0|      127206.9|      64106.18|      0|             0|      0.0|(4,[0],[1.0])|(9,[0,3,4,5],[1.0...|(9,[0,3,4,5],[0.0...|\n",
      "|   1|CASH_OUT|112086.81|          0.0|           0.0|      292728.0|      55974.56|      0|             0|      0.0|(4,[0],[1.0])|(9,[0,3,4,5],[1.0...|(9,[0,3,4,5],[0.0...|\n",
      "|   1|CASH_OUT| 134543.6|     581406.1|      446862.5|     420946.86|     877201.48|      0|             0|      0.0|(4,[0],[1.0])|[1.0,581406.1,446...|[0.00702439481610...|\n",
      "+----+--------+---------+-------------+--------------+--------------+--------------+-------+--------------+---------+-------------+--------------------+--------------------+\n",
      "only showing top 20 rows\n",
      "\n"
     ]
    },
    {
     "name": "stderr",
     "output_type": "stream",
     "text": [
      "                                                                                \r"
     ]
    }
   ],
   "source": [
    "# load the test set\n",
    "# apply the pipeline to the test set\n",
    "transformed_test_x = pipeline.transform(test_set)\n",
    "transformed_test_x.show()"
   ]
  },
  {
   "cell_type": "code",
   "execution_count": 36,
   "metadata": {
    "colab": {
     "base_uri": "https://localhost:8080/"
    },
    "execution": {
     "iopub.execute_input": "2023-05-14T15:05:56.454535Z",
     "iopub.status.busy": "2023-05-14T15:05:56.454216Z",
     "iopub.status.idle": "2023-05-14T15:05:56.459685Z",
     "shell.execute_reply": "2023-05-14T15:05:56.458987Z",
     "shell.execute_reply.started": "2023-05-14T15:05:56.454509Z"
    },
    "id": "scTXUahActzm",
    "outputId": "8fde139e-b1b8-4dc6-8b5b-964b08345ffb"
   },
   "outputs": [
    {
     "name": "stdout",
     "output_type": "stream",
     "text": [
      "root\n",
      " |-- step: integer (nullable = true)\n",
      " |-- type: string (nullable = true)\n",
      " |-- amount: float (nullable = true)\n",
      " |-- oldbalanceOrg: double (nullable = true)\n",
      " |-- newbalanceOrig: double (nullable = true)\n",
      " |-- oldbalanceDest: double (nullable = true)\n",
      " |-- newbalanceDest: double (nullable = true)\n",
      " |-- isFraud: integer (nullable = true)\n",
      " |-- isFlaggedFraud: integer (nullable = true)\n",
      " |-- typeIndex: double (nullable = false)\n",
      " |-- typeVec: vector (nullable = true)\n",
      " |-- num_features: vector (nullable = true)\n",
      " |-- scaled_features: vector (nullable = true)\n",
      "\n"
     ]
    }
   ],
   "source": [
    "transformed_test_x.printSchema()"
   ]
  },
  {
   "cell_type": "markdown",
   "metadata": {
    "id": "BAr65BroER0G"
   },
   "source": [
    "#### 6.1 Logistic Regression\n",
    "\n",
    "\n",
    "Applied logistic regression algorithm by setting up a parameter grid and cross-validation to find the best logistic regression model, and then evaluate its performance on the transformed test data using binary classification evaluator."
   ]
  },
  {
   "cell_type": "code",
   "execution_count": 37,
   "metadata": {
    "execution": {
     "iopub.execute_input": "2023-05-14T15:05:56.461086Z",
     "iopub.status.busy": "2023-05-14T15:05:56.460825Z",
     "iopub.status.idle": "2023-05-14T15:13:20.730883Z",
     "shell.execute_reply": "2023-05-14T15:13:20.729971Z",
     "shell.execute_reply.started": "2023-05-14T15:05:56.461063Z"
    },
    "id": "k1tSiJeZHHlw"
   },
   "outputs": [
    {
     "name": "stderr",
     "output_type": "stream",
     "text": [
      "                                                                                \r"
     ]
    }
   ],
   "source": [
    "from pyspark.ml.classification import LogisticRegression\n",
    "from pyspark.ml.evaluation import BinaryClassificationEvaluator\n",
    "from pyspark.ml.tuning import CrossValidator, ParamGridBuilder\n",
    "from pyspark.mllib.evaluation import BinaryClassificationMetrics\n",
    "import matplotlib.pyplot as plt\n",
    "\n",
    "# set up the parameter grid\n",
    "param_grid = ParamGridBuilder() \\\n",
    "    .addGrid(LogisticRegression.regParam, [0.01, 0.05, 0.1]) \\\n",
    "    .addGrid(LogisticRegression.elasticNetParam, [0.0, 0.5, 1.0]) \\\n",
    "    .build()# create a Logistic Regression model object\n",
    "lr = LogisticRegression(featuresCol=\"scaled_features\", labelCol=\"isFraud\", rawPredictionCol=\"rawPrediction\")\n",
    "\n",
    "# set up cross-validation\n",
    "evaluator = BinaryClassificationEvaluator(rawPredictionCol=\"rawPrediction\", labelCol=\"isFraud\")\n",
    "cv = CrossValidator(estimator=lr, estimatorParamMaps=param_grid, evaluator=evaluator, numFolds=3)\n",
    "\n",
    "# fit the model to the transformed training data\n",
    "lr_model = cv.fit(transformed_train_x)\n",
    "\n",
    "# use the best estimator from cross-validation to make predictions on the transformed test data\n",
    "best_lr = lr_model.bestModel\n",
    "lr_predictions = best_lr.transform(transformed_test_x)\n",
    "\n",
    "# evaluate the model's performance on the transformed test data\n",
    "lr_evaluator = BinaryClassificationEvaluator(rawPredictionCol=\"rawPrediction\", labelCol=\"isFraud\")\n",
    "lr_auc = lr_evaluator.evaluate(lr_predictions)"
   ]
  },
  {
   "cell_type": "code",
   "execution_count": 38,
   "metadata": {
    "colab": {
     "base_uri": "https://localhost:8080/"
    },
    "execution": {
     "iopub.execute_input": "2023-05-14T15:13:20.732349Z",
     "iopub.status.busy": "2023-05-14T15:13:20.731957Z",
     "iopub.status.idle": "2023-05-14T15:13:20.738869Z",
     "shell.execute_reply": "2023-05-14T15:13:20.738146Z",
     "shell.execute_reply.started": "2023-05-14T15:13:20.732315Z"
    },
    "id": "SHhkVw3FHYwV",
    "outputId": "abc23e47-23b8-4fd0-93b0-13c8657e989b"
   },
   "outputs": [
    {
     "name": "stdout",
     "output_type": "stream",
     "text": [
      "root\n",
      " |-- step: integer (nullable = true)\n",
      " |-- type: string (nullable = true)\n",
      " |-- amount: float (nullable = true)\n",
      " |-- oldbalanceOrg: double (nullable = true)\n",
      " |-- newbalanceOrig: double (nullable = true)\n",
      " |-- oldbalanceDest: double (nullable = true)\n",
      " |-- newbalanceDest: double (nullable = true)\n",
      " |-- isFraud: integer (nullable = true)\n",
      " |-- isFlaggedFraud: integer (nullable = true)\n",
      " |-- typeIndex: double (nullable = false)\n",
      " |-- typeVec: vector (nullable = true)\n",
      " |-- num_features: vector (nullable = true)\n",
      " |-- scaled_features: vector (nullable = true)\n",
      " |-- rawPrediction: vector (nullable = true)\n",
      " |-- probability: vector (nullable = true)\n",
      " |-- prediction: double (nullable = false)\n",
      "\n"
     ]
    }
   ],
   "source": [
    "lr_predictions.printSchema()"
   ]
  },
  {
   "cell_type": "code",
   "execution_count": 39,
   "metadata": {
    "colab": {
     "base_uri": "https://localhost:8080/"
    },
    "execution": {
     "iopub.execute_input": "2023-05-14T15:13:20.740721Z",
     "iopub.status.busy": "2023-05-14T15:13:20.740149Z",
     "iopub.status.idle": "2023-05-14T15:13:25.082077Z",
     "shell.execute_reply": "2023-05-14T15:13:25.081225Z",
     "shell.execute_reply.started": "2023-05-14T15:13:20.740694Z"
    },
    "id": "HYc29Dez7Jfy",
    "outputId": "5be76103-34ba-47b4-dd53-0ea533c8529f"
   },
   "outputs": [
    {
     "name": "stderr",
     "output_type": "stream",
     "text": [
      "[Stage 3129:>                                                       (0 + 1) / 1]\r"
     ]
    },
    {
     "name": "stdout",
     "output_type": "stream",
     "text": [
      "+----------+\n",
      "|prediction|\n",
      "+----------+\n",
      "|       0.0|\n",
      "|       0.0|\n",
      "|       0.0|\n",
      "|       0.0|\n",
      "|       0.0|\n",
      "|       0.0|\n",
      "|       0.0|\n",
      "|       0.0|\n",
      "|       0.0|\n",
      "|       0.0|\n",
      "|       0.0|\n",
      "|       0.0|\n",
      "|       0.0|\n",
      "|       0.0|\n",
      "|       0.0|\n",
      "|       0.0|\n",
      "|       0.0|\n",
      "|       0.0|\n",
      "|       1.0|\n",
      "|       0.0|\n",
      "+----------+\n",
      "only showing top 20 rows\n",
      "\n"
     ]
    },
    {
     "name": "stderr",
     "output_type": "stream",
     "text": [
      "                                                                                \r"
     ]
    }
   ],
   "source": [
    "# Show the content of the probability and prediction vectors\n",
    "lr_predictions.select('prediction').show(20)"
   ]
  },
  {
   "cell_type": "markdown",
   "metadata": {
    "id": "WmWBUKkOMlAI"
   },
   "source": [
    "**6.1.1 Predictions**\n",
    "\n",
    "Displaying the raw predictions, actual labels, and predicted labels for the first 10 transactions in the transformed test data."
   ]
  },
  {
   "cell_type": "code",
   "execution_count": 42,
   "metadata": {
    "colab": {
     "base_uri": "https://localhost:8080/"
    },
    "execution": {
     "iopub.execute_input": "2023-05-14T15:18:29.981952Z",
     "iopub.status.busy": "2023-05-14T15:18:29.981580Z",
     "iopub.status.idle": "2023-05-14T15:18:34.501809Z",
     "shell.execute_reply": "2023-05-14T15:18:34.500722Z",
     "shell.execute_reply.started": "2023-05-14T15:18:29.981916Z"
    },
    "id": "xFDa0744D0tU",
    "outputId": "c63dda70-54c2-4e8e-d601-9f720e464599"
   },
   "outputs": [
    {
     "name": "stderr",
     "output_type": "stream",
     "text": [
      "[Stage 3268:>                                                       (0 + 1) / 1]\r"
     ]
    },
    {
     "name": "stdout",
     "output_type": "stream",
     "text": [
      "+--------------------+-------+----------+\n",
      "|       rawPrediction|isFraud|prediction|\n",
      "+--------------------+-------+----------+\n",
      "|[184.745147529944...|      0|       0.0|\n",
      "|[184.598484579572...|      0|       0.0|\n",
      "|[185.008160087576...|      0|       0.0|\n",
      "|[177.383583408711...|      0|       0.0|\n",
      "|[199.923440411485...|      0|       0.0|\n",
      "|[184.236796754828...|      0|       0.0|\n",
      "|[182.456430874133...|      0|       0.0|\n",
      "|[186.448638901302...|      0|       0.0|\n",
      "|[187.558331056132...|      0|       0.0|\n",
      "|[185.849092037681...|      0|       0.0|\n",
      "+--------------------+-------+----------+\n",
      "only showing top 10 rows\n",
      "\n"
     ]
    },
    {
     "name": "stderr",
     "output_type": "stream",
     "text": [
      "                                                                                \r"
     ]
    }
   ],
   "source": [
    "# check the predictions\n",
    "lr_predictions.select('rawPrediction', 'isFraud','prediction').show(10)"
   ]
  },
  {
   "cell_type": "markdown",
   "metadata": {
    "id": "EhhdadjzMhy8"
   },
   "source": [
    "**6.1.2 Sensitivity, Specicificity, AUC - Different Thresholds**\n",
    "\n",
    "Computing confusion matrix with default Threshold = 0.5:"
   ]
  },
  {
   "cell_type": "code",
   "execution_count": 43,
   "metadata": {
    "colab": {
     "base_uri": "https://localhost:8080/"
    },
    "execution": {
     "iopub.execute_input": "2023-05-14T15:18:34.503283Z",
     "iopub.status.busy": "2023-05-14T15:18:34.502908Z",
     "iopub.status.idle": "2023-05-14T15:19:10.063245Z",
     "shell.execute_reply": "2023-05-14T15:19:10.062247Z",
     "shell.execute_reply.started": "2023-05-14T15:18:34.503246Z"
    },
    "id": "soS_7ha8EPdB",
    "outputId": "0f46f46d-854b-4d26-b19e-356e040f41b6"
   },
   "outputs": [
    {
     "name": "stderr",
     "output_type": "stream",
     "text": [
      "[Stage 3278:==========================================>             (3 + 1) / 4]\r"
     ]
    },
    {
     "name": "stdout",
     "output_type": "stream",
     "text": [
      "True Positive:  289\n",
      "True Negative:  202284\n",
      "False Positive:  7813\n",
      "False Negative:  15\n"
     ]
    },
    {
     "name": "stderr",
     "output_type": "stream",
     "text": [
      "                                                                                \r"
     ]
    }
   ],
   "source": [
    "# compute the confusion matrix for the logistic regression model\n",
    "tp = lr_predictions.filter(\"isFraud = 1 and prediction = 1\").count()\n",
    "tn = lr_predictions.filter(\"isFraud = 0 and prediction = 0\").count()\n",
    "fp = lr_predictions.filter(\"isFraud = 0 and prediction = 1\").count()\n",
    "fn = lr_predictions.filter(\"isFraud = 1 and prediction = 0\").count()\n",
    "\n",
    "#tp, tn, fp, fn\n",
    "print(\"True Positive: \",tp)\n",
    "print(\"True Negative: \",tn)\n",
    "print(\"False Positive: \",fp)\n",
    "print(\"False Negative: \",fn)"
   ]
  },
  {
   "cell_type": "markdown",
   "metadata": {
    "id": "B5sRMiKUIOe4"
   },
   "source": [
    "To improve the sensitivity of the model, I can experiment with lowering the classification threshold from the default value of 0.5. \n",
    "\n",
    "By doing so, I increase the number of positive predictions, which helps to reduce the number of false negatives, ensuring that we do not miss genuine cases of fraud. Lowering the threshold will allow the model to focus more on correctly identifying cases of fraud, which will ultimately improve the model's performance."
   ]
  },
  {
   "cell_type": "markdown",
   "metadata": {
    "id": "50vfrWuxM259"
   },
   "source": [
    "**Computing confusion matrix with different threshold values: [0.1, 0.2, 0.3, 0.4, 0.5, 0.6]**\n",
    "\n",
    "The accuracy metric can be misleading in an imbalanced dataset, where there are many more non-fraudulent transactions than fraudulent ones. In such cases, accuracy can be high even when the model is misclassifying most fraudulent transactions. Therefore, it is better to use sensitivity, specificity, and AUC to evaluate the model's performance."
   ]
  },
  {
   "cell_type": "code",
   "execution_count": 44,
   "metadata": {
    "execution": {
     "iopub.execute_input": "2023-05-14T15:19:10.064903Z",
     "iopub.status.busy": "2023-05-14T15:19:10.064347Z",
     "iopub.status.idle": "2023-05-14T15:19:10.100681Z",
     "shell.execute_reply": "2023-05-14T15:19:10.099535Z",
     "shell.execute_reply.started": "2023-05-14T15:19:10.064866Z"
    },
    "id": "iTVtida6DGVq"
   },
   "outputs": [],
   "source": [
    "from pyspark.sql.functions import udf\n",
    "from pyspark.sql.types import DoubleType\n",
    "\n",
    "# define a UDF to extract the probability for the positive class\n",
    "get_positive_prob = udf(lambda x: float(x[0]), DoubleType())\n",
    "\n",
    "# create a new column with the probability for the positive class\n",
    "lr_predictions = lr_predictions.withColumn(\"prob_positive\", get_positive_prob(lr_predictions.probability))"
   ]
  },
  {
   "cell_type": "code",
   "execution_count": 45,
   "metadata": {
    "colab": {
     "base_uri": "https://localhost:8080/"
    },
    "execution": {
     "iopub.execute_input": "2023-05-14T15:19:10.103411Z",
     "iopub.status.busy": "2023-05-14T15:19:10.103012Z",
     "iopub.status.idle": "2023-05-14T15:24:10.350492Z",
     "shell.execute_reply": "2023-05-14T15:24:10.349523Z",
     "shell.execute_reply.started": "2023-05-14T15:19:10.103375Z"
    },
    "id": "wZ5Z3yfqPAQf",
    "outputId": "e6a594a8-a2c9-4c96-ec87-61dcea18ed1d"
   },
   "outputs": [
    {
     "name": "stderr",
     "output_type": "stream",
     "text": [
      "                                                                                \r"
     ]
    },
    {
     "name": "stdout",
     "output_type": "stream",
     "text": [
      "Threshold: 0.1\n",
      "Confusion matrix for threshold = 0.1\n",
      "[[  1638 208459]\n",
      " [   228     76]]\n",
      "Accuracy: 0.008\n",
      "Sensitivity: 0.250\n",
      "Specificity: 0.008\n",
      "AUC: 0.991\n",
      "\n",
      "\n"
     ]
    },
    {
     "name": "stderr",
     "output_type": "stream",
     "text": [
      "                                                                                \r"
     ]
    },
    {
     "name": "stdout",
     "output_type": "stream",
     "text": [
      "Threshold: 0.2\n",
      "Confusion matrix for threshold = 0.2\n",
      "[[  2854 207243]\n",
      " [   248     56]]\n",
      "Accuracy: 0.014\n",
      "Sensitivity: 0.184\n",
      "Specificity: 0.014\n",
      "AUC: 0.991\n",
      "\n",
      "\n"
     ]
    },
    {
     "name": "stderr",
     "output_type": "stream",
     "text": [
      "                                                                                \r"
     ]
    },
    {
     "name": "stdout",
     "output_type": "stream",
     "text": [
      "Threshold: 0.3\n",
      "Confusion matrix for threshold = 0.3\n",
      "[[  4185 205912]\n",
      " [   259     45]]\n",
      "Accuracy: 0.020\n",
      "Sensitivity: 0.148\n",
      "Specificity: 0.020\n",
      "AUC: 0.991\n",
      "\n",
      "\n"
     ]
    },
    {
     "name": "stderr",
     "output_type": "stream",
     "text": [
      "                                                                                \r"
     ]
    },
    {
     "name": "stdout",
     "output_type": "stream",
     "text": [
      "Threshold: 0.4\n",
      "Confusion matrix for threshold = 0.4\n",
      "[[  5778 204319]\n",
      " [   276     28]]\n",
      "Accuracy: 0.028\n",
      "Sensitivity: 0.092\n",
      "Specificity: 0.028\n",
      "AUC: 0.991\n",
      "\n",
      "\n"
     ]
    },
    {
     "name": "stderr",
     "output_type": "stream",
     "text": [
      "                                                                                \r"
     ]
    },
    {
     "name": "stdout",
     "output_type": "stream",
     "text": [
      "Threshold: 0.5\n",
      "Confusion matrix for threshold = 0.5\n",
      "[[  7813 202284]\n",
      " [   289     15]]\n",
      "Accuracy: 0.037\n",
      "Sensitivity: 0.049\n",
      "Specificity: 0.037\n",
      "AUC: 0.991\n",
      "\n",
      "\n"
     ]
    },
    {
     "name": "stderr",
     "output_type": "stream",
     "text": [
      "                                                                                \r"
     ]
    },
    {
     "name": "stdout",
     "output_type": "stream",
     "text": [
      "Threshold: 0.6\n",
      "Confusion matrix for threshold = 0.6\n",
      "[[ 10581 199516]\n",
      " [   292     12]]\n",
      "Accuracy: 0.050\n",
      "Sensitivity: 0.039\n",
      "Specificity: 0.050\n",
      "AUC: 0.991\n",
      "\n",
      "\n"
     ]
    }
   ],
   "source": [
    "from pyspark.sql.functions import when\n",
    "\n",
    "# define a function to calculate the performance metrics for a given threshold\n",
    "def evaluate_threshold(threshold):\n",
    "    # create a new column with binary classification based on the threshold\n",
    "    lr_threshold_predictions = lr_predictions.withColumn(\"prediction\", when(lr_predictions.prob_positive >= threshold, 1.0).otherwise(0.0))\n",
    "    \n",
    "    # calculate TP, FN, FP, TN\n",
    "    tp = lr_threshold_predictions.filter(\"prediction = 1 AND isFraud = 1\").count()\n",
    "    fn = lr_threshold_predictions.filter(\"prediction = 0 AND isFraud = 1\").count()\n",
    "    fp = lr_threshold_predictions.filter(\"prediction = 1 AND isFraud = 0\").count()\n",
    "    tn = lr_threshold_predictions.filter(\"prediction = 0 AND isFraud = 0\").count()\n",
    "    \n",
    "    # calculate performance metrics\n",
    "    accuracy = (tp + tn) / (tp + tn + fp + fn)\n",
    "    # calculate the sensitivity and specificity of the logistic regression model with the given threshold\n",
    "    lr_sensitivity = tp / (tp + fn)\n",
    "    lr_specificity = tn / (tn + fp)\n",
    "    \n",
    "    # compute AUC\n",
    "    evaluator = BinaryClassificationEvaluator(rawPredictionCol=\"rawPrediction\", labelCol=\"isFraud\")\n",
    "    auc = evaluator.evaluate(lr_threshold_predictions)\n",
    "\n",
    "    print(\"Threshold: {:.1f}\".format(threshold))\n",
    "    # print confusion matrix and performance metrics\n",
    "    print(f\"Confusion matrix for threshold = {threshold}\")\n",
    "    print(np.array([[tn, fp], [fn, tp]]))\n",
    "    print(f\"Accuracy: {accuracy:.3f}\")\n",
    "    print(\"Sensitivity: {:.3f}\".format(lr_sensitivity))\n",
    "    print(\"Specificity: {:.3f}\".format(lr_specificity))\n",
    "    print(f\"AUC: {auc:.3f}\")\n",
    "    print(\"\\n\")\n",
    "\n",
    "# create an array of threshold values to test\n",
    "thresholds = [0.1, 0.2, 0.3, 0.4, 0.5, 0.6]\n",
    "\n",
    "# loop through each threshold value and evaluate the performance metrics\n",
    "for threshold in thresholds:\n",
    "    evaluate_threshold(threshold)"
   ]
  },
  {
   "cell_type": "markdown",
   "metadata": {
    "id": "IyqrFejNf252"
   },
   "source": [
    "As expected, lowering the threshold leads to an increase in sensitivity, but it comes at the cost of lower specificity and accuracy. However, it is essential to evaluate the model's performance at lower thresholds as it is crucial to detect fraudulent transactions accurately.\n",
    "\n",
    "Looking at the output, we can see that at a threshold of 0.1, the model has the highest sensitivity, meaning that it correctly identifies more fraudulent transactions. However, the specificity and accuracy are low.\n",
    "\n",
    "Since its a fraud detection case, we care more about the FN (228) at threshold =0.1 in this case being less - because its safer to say that someone is a fraud when they aren't as a safety measure for the company to double check. But it's not okay to have someone who is actually a fraud but is being misclassified as NOT a fraud - that is the FN value and we need to lower the FN and hence I am looking at sensitivity and specificity."
   ]
  },
  {
   "cell_type": "markdown",
   "metadata": {
    "id": "lX6jyjWrM60g"
   },
   "source": [
    "**6.1.3 ROC**"
   ]
  },
  {
   "cell_type": "code",
   "execution_count": 46,
   "metadata": {
    "colab": {
     "base_uri": "https://localhost:8080/",
     "height": 496
    },
    "execution": {
     "iopub.execute_input": "2023-05-14T15:24:10.351737Z",
     "iopub.status.busy": "2023-05-14T15:24:10.351407Z",
     "iopub.status.idle": "2023-05-14T15:24:32.111652Z",
     "shell.execute_reply": "2023-05-14T15:24:32.109481Z",
     "shell.execute_reply.started": "2023-05-14T15:24:10.351711Z"
    },
    "id": "NBBEVLk6MS7a",
    "outputId": "c2296bfa-e163-478a-fc62-e0d9cf491ca5"
   },
   "outputs": [
    {
     "name": "stderr",
     "output_type": "stream",
     "text": [
      "                                                                                \r"
     ]
    },
    {
     "data": {
      "image/png": "[encoded data removed]",
      "text/plain": [
       "<Figure size 500x500 with 1 Axes>"
      ]
     },
     "metadata": {},
     "output_type": "display_data"
    }
   ],
   "source": [
    "# plot the ROC curve\n",
    "lr_tpr = lr_model.bestModel.summary.roc.select('TPR').collect()\n",
    "lr_fpr = lr_model.bestModel.summary.roc.select('FPR').collect()\n",
    "plt.figure(figsize=(5,5))\n",
    "plt.plot([0, 1], [0, 1], 'r--')\n",
    "plt.plot(lr_fpr, lr_tpr)\n",
    "plt.xlabel('FPR')\n",
    "plt.ylabel('TPR')\n",
    "plt.title(\"ROC Curve\")\n",
    "plt.show()"
   ]
  },
  {
   "cell_type": "markdown",
   "metadata": {
    "id": "w8gWt6IQER0G"
   },
   "source": [
    "#### 6.2 Random Forest\n",
    "\n",
    "Applied Random Forest Classifier to the data using a cross-validation approach with a parameter grid to tune the model, and evaluated the performance of the best model on the transformed test data using the BinaryClassificationEvaluator."
   ]
  },
  {
   "cell_type": "code",
   "execution_count": 47,
   "metadata": {
    "execution": {
     "iopub.execute_input": "2023-05-14T15:24:32.113296Z",
     "iopub.status.busy": "2023-05-14T15:24:32.112978Z",
     "iopub.status.idle": "2023-05-14T15:28:33.418415Z",
     "shell.execute_reply": "2023-05-14T15:28:33.417499Z",
     "shell.execute_reply.started": "2023-05-14T15:24:32.113270Z"
    },
    "id": "kXBZKZohER0G"
   },
   "outputs": [
    {
     "name": "stderr",
     "output_type": "stream",
     "text": [
      "                                                                                \r"
     ]
    }
   ],
   "source": [
    "from pyspark.ml.classification import RandomForestClassifier\n",
    "from pyspark.ml.evaluation import BinaryClassificationEvaluator\n",
    "from pyspark.ml.tuning import CrossValidator, ParamGridBuilder\n",
    "from pyspark.mllib.evaluation import BinaryClassificationMetrics\n",
    "import matplotlib.pyplot as plt\n",
    "\n",
    "# set up the parameter grid\n",
    "param_grid = ParamGridBuilder() \\\n",
    "    .addGrid(RandomForestClassifier.numTrees, [5, 10]) \\\n",
    "    .addGrid(RandomForestClassifier.maxDepth, [5, 10]) \\\n",
    "    .build()\n",
    "\n",
    "# create a Random Forest Classifier model object\n",
    "rf = RandomForestClassifier(featuresCol=\"scaled_features\", labelCol=\"isFraud\", rawPredictionCol=\"rawPrediction\")\n",
    "\n",
    "# set up cross-validation\n",
    "evaluator = BinaryClassificationEvaluator(rawPredictionCol=\"rawPrediction\", labelCol=\"isFraud\")\n",
    "cv = CrossValidator(estimator=rf, estimatorParamMaps=param_grid, evaluator=evaluator, numFolds=2)\n",
    "\n",
    "# fit the model to the transformed training data\n",
    "rf_model = cv.fit(transformed_train_x)\n",
    "\n",
    "# use the best estimator from cross-validation to make predictions on the transformed test data\n",
    "best_rf = rf_model.bestModel\n",
    "rf_predictions = best_rf.transform(transformed_test_x)\n",
    "\n",
    "# evaluate the model's performance on the transformed test data\n",
    "rf_evaluator = BinaryClassificationEvaluator(rawPredictionCol=\"rawPrediction\", labelCol=\"isFraud\")\n",
    "rf_auc = rf_evaluator.evaluate(rf_predictions)"
   ]
  },
  {
   "cell_type": "markdown",
   "metadata": {
    "id": "c-xbYEnXgw3G"
   },
   "source": [
    "**6.2.1 Predictions**\n",
    "\n",
    "Displaying the raw predictions, actual labels, and predicted labels for the first 10 transactions in the transformed test data."
   ]
  },
  {
   "cell_type": "code",
   "execution_count": 48,
   "metadata": {
    "colab": {
     "base_uri": "https://localhost:8080/"
    },
    "execution": {
     "iopub.execute_input": "2023-05-14T15:28:33.419983Z",
     "iopub.status.busy": "2023-05-14T15:28:33.419359Z",
     "iopub.status.idle": "2023-05-14T15:28:37.906874Z",
     "shell.execute_reply": "2023-05-14T15:28:37.905802Z",
     "shell.execute_reply.started": "2023-05-14T15:28:33.419946Z"
    },
    "id": "mJdAKht0gybv",
    "outputId": "6d6a65c7-ed79-4bea-cbae-a0961ede557f"
   },
   "outputs": [
    {
     "name": "stderr",
     "output_type": "stream",
     "text": [
      "[Stage 3685:>                                                       (0 + 1) / 1]\r"
     ]
    },
    {
     "name": "stdout",
     "output_type": "stream",
     "text": [
      "+--------------------+-------+----------+\n",
      "|       rawPrediction|isFraud|prediction|\n",
      "+--------------------+-------+----------+\n",
      "|[19.7305481464112...|      0|       0.0|\n",
      "|[19.7305481464112...|      0|       0.0|\n",
      "|[19.7305481464112...|      0|       0.0|\n",
      "|[19.7305481464112...|      0|       0.0|\n",
      "|[19.7305481464112...|      0|       0.0|\n",
      "|[19.7305481464112...|      0|       0.0|\n",
      "|[19.7305481464112...|      0|       0.0|\n",
      "|[19.7305481464112...|      0|       0.0|\n",
      "|[19.7305481464112...|      0|       0.0|\n",
      "|[19.7305481464112...|      0|       0.0|\n",
      "+--------------------+-------+----------+\n",
      "only showing top 10 rows\n",
      "\n"
     ]
    },
    {
     "name": "stderr",
     "output_type": "stream",
     "text": [
      "                                                                                \r"
     ]
    }
   ],
   "source": [
    "# check the predictions\n",
    "rf_predictions.select('rawPrediction', 'isFraud','prediction').show(10)"
   ]
  },
  {
   "cell_type": "markdown",
   "metadata": {
    "id": "2dsJRszhg36h"
   },
   "source": [
    "**6.2.2 Sensitivity, Specicificity, AUC - Different Thresholds**\n",
    "\n",
    "Computing confusion matrix with default Threshold = 0.5:"
   ]
  },
  {
   "cell_type": "code",
   "execution_count": 49,
   "metadata": {
    "colab": {
     "base_uri": "https://localhost:8080/"
    },
    "execution": {
     "iopub.execute_input": "2023-05-14T15:28:37.908416Z",
     "iopub.status.busy": "2023-05-14T15:28:37.908017Z",
     "iopub.status.idle": "2023-05-14T15:29:14.275674Z",
     "shell.execute_reply": "2023-05-14T15:29:14.274769Z",
     "shell.execute_reply.started": "2023-05-14T15:28:37.908378Z"
    },
    "id": "4T4OJLlKi9Dq",
    "outputId": "5490142a-baa8-4e4e-b882-8204bd46c963"
   },
   "outputs": [
    {
     "name": "stderr",
     "output_type": "stream",
     "text": [
      "[Stage 3695:>                                                       (0 + 4) / 4]\r"
     ]
    },
    {
     "name": "stdout",
     "output_type": "stream",
     "text": [
      "True Positive:  285\n",
      "True Negative:  202861\n",
      "False Positive:  7236\n",
      "False Negative:  19\n"
     ]
    },
    {
     "name": "stderr",
     "output_type": "stream",
     "text": [
      "                                                                                \r"
     ]
    }
   ],
   "source": [
    "# compute the confusion matrix for the random forest model\n",
    "tp = rf_predictions.filter(\"isFraud = 1 and prediction = 1\").count()\n",
    "tn = rf_predictions.filter(\"isFraud = 0 and prediction = 0\").count()\n",
    "fp = rf_predictions.filter(\"isFraud = 0 and prediction = 1\").count()\n",
    "fn = rf_predictions.filter(\"isFraud = 1 and prediction = 0\").count()\n",
    "\n",
    "#tp, tn, fp, fn\n",
    "print(\"True Positive: \",tp)\n",
    "print(\"True Negative: \",tn)\n",
    "print(\"False Positive: \",fp)\n",
    "print(\"False Negative: \",fn)"
   ]
  },
  {
   "cell_type": "markdown",
   "metadata": {},
   "source": [
    "**Computing confusion matrix with different threshold values: [0.1, 0.2, 0.3, 0.4, 0.5, 0.6]**"
   ]
  },
  {
   "cell_type": "code",
   "execution_count": 51,
   "metadata": {
    "execution": {
     "iopub.execute_input": "2023-05-14T15:33:03.698123Z",
     "iopub.status.busy": "2023-05-14T15:33:03.697769Z",
     "iopub.status.idle": "2023-05-14T15:33:03.736583Z",
     "shell.execute_reply": "2023-05-14T15:33:03.735493Z",
     "shell.execute_reply.started": "2023-05-14T15:33:03.698077Z"
    },
    "id": "9F_YMA_GKYVp"
   },
   "outputs": [],
   "source": [
    "from pyspark.sql.functions import udf\n",
    "from pyspark.sql.types import DoubleType\n",
    "\n",
    "# define a UDF to extract the probability for the positive class\n",
    "get_positive_prob = udf(lambda x: float(x[0]), DoubleType())\n",
    "\n",
    "# create a new column with the probability for the positive class\n",
    "rf_predictions = rf_predictions.withColumn(\"prob_positive\", get_positive_prob(rf_predictions.probability))"
   ]
  },
  {
   "cell_type": "code",
   "execution_count": 52,
   "metadata": {
    "colab": {
     "base_uri": "https://localhost:8080/"
    },
    "execution": {
     "iopub.execute_input": "2023-05-14T15:33:03.738061Z",
     "iopub.status.busy": "2023-05-14T15:33:03.737698Z",
     "iopub.status.idle": "2023-05-14T15:38:00.253948Z",
     "shell.execute_reply": "2023-05-14T15:38:00.253118Z",
     "shell.execute_reply.started": "2023-05-14T15:33:03.738027Z"
    },
    "id": "pPPNZesZK8ZA",
    "outputId": "2180612d-f79f-4bde-d5ae-59d77c64e2c7"
   },
   "outputs": [
    {
     "name": "stderr",
     "output_type": "stream",
     "text": [
      "/opt/conda/lib/python3.10/site-packages/scipy/__init__.py:146: UserWarning: A NumPy version >=1.16.5 and <1.23.0 is required for this version of SciPy (detected version 1.23.5\n",
      "  warnings.warn(f\"A NumPy version >={np_minversion} and <{np_maxversion}\"\n",
      "/opt/conda/lib/python3.10/site-packages/scipy/__init__.py:146: UserWarning: A NumPy version >=1.16.5 and <1.23.0 is required for this version of SciPy (detected version 1.23.5\n",
      "  warnings.warn(f\"A NumPy version >={np_minversion} and <{np_maxversion}\"\n",
      "/opt/conda/lib/python3.10/site-packages/scipy/__init__.py:146: UserWarning: A NumPy version >=1.16.5 and <1.23.0 is required for this version of SciPy (detected version 1.23.5\n",
      "  warnings.warn(f\"A NumPy version >={np_minversion} and <{np_maxversion}\"\n",
      "/opt/conda/lib/python3.10/site-packages/scipy/__init__.py:146: UserWarning: A NumPy version >=1.16.5 and <1.23.0 is required for this version of SciPy (detected version 1.23.5\n",
      "  warnings.warn(f\"A NumPy version >={np_minversion} and <{np_maxversion}\"\n",
      "                                                                                \r"
     ]
    },
    {
     "name": "stdout",
     "output_type": "stream",
     "text": [
      "Threshold: 0.1\n",
      "Confusion matrix for threshold = 0.1\n",
      "[[     1 210096]\n",
      " [   138    166]]\n",
      "Accuracy: 0.001\n",
      "Sensitivity: 0.000\n",
      "Specificity: 0.000\n",
      "AUC: 0.992\n",
      "\n",
      "\n"
     ]
    },
    {
     "name": "stderr",
     "output_type": "stream",
     "text": [
      "                                                                                \r"
     ]
    },
    {
     "name": "stdout",
     "output_type": "stream",
     "text": [
      "Threshold: 0.2\n",
      "Confusion matrix for threshold = 0.2\n",
      "[[  2149 207948]\n",
      " [   236     68]]\n",
      "Accuracy: 0.011\n",
      "Sensitivity: 0.010\n",
      "Specificity: 0.010\n",
      "AUC: 0.992\n",
      "\n",
      "\n"
     ]
    },
    {
     "name": "stderr",
     "output_type": "stream",
     "text": [
      "                                                                                \r"
     ]
    },
    {
     "name": "stdout",
     "output_type": "stream",
     "text": [
      "Threshold: 0.3\n",
      "Confusion matrix for threshold = 0.3\n",
      "[[  4581 205516]\n",
      " [   280     24]]\n",
      "Accuracy: 0.022\n",
      "Sensitivity: 0.022\n",
      "Specificity: 0.022\n",
      "AUC: 0.992\n",
      "\n",
      "\n"
     ]
    },
    {
     "name": "stderr",
     "output_type": "stream",
     "text": [
      "                                                                                \r"
     ]
    },
    {
     "name": "stdout",
     "output_type": "stream",
     "text": [
      "Threshold: 0.4\n",
      "Confusion matrix for threshold = 0.4\n",
      "[[  5484 204613]\n",
      " [   283     21]]\n",
      "Accuracy: 0.026\n",
      "Sensitivity: 0.026\n",
      "Specificity: 0.026\n",
      "AUC: 0.992\n",
      "\n",
      "\n"
     ]
    },
    {
     "name": "stderr",
     "output_type": "stream",
     "text": [
      "                                                                                \r"
     ]
    },
    {
     "name": "stdout",
     "output_type": "stream",
     "text": [
      "Threshold: 0.5\n",
      "Confusion matrix for threshold = 0.5\n",
      "[[  7236 202861]\n",
      " [   285     19]]\n",
      "Accuracy: 0.034\n",
      "Sensitivity: 0.034\n",
      "Specificity: 0.034\n",
      "AUC: 0.992\n",
      "\n",
      "\n"
     ]
    },
    {
     "name": "stderr",
     "output_type": "stream",
     "text": [
      "[Stage 3940:============================>                           (2 + 2) / 4]\r"
     ]
    },
    {
     "name": "stdout",
     "output_type": "stream",
     "text": [
      "Threshold: 0.6\n",
      "Confusion matrix for threshold = 0.6\n",
      "[[  9011 201086]\n",
      " [   292     12]]\n",
      "Accuracy: 0.043\n",
      "Sensitivity: 0.043\n",
      "Specificity: 0.043\n",
      "AUC: 0.992\n",
      "\n",
      "\n"
     ]
    },
    {
     "name": "stderr",
     "output_type": "stream",
     "text": [
      "                                                                                \r"
     ]
    }
   ],
   "source": [
    "from pyspark.sql.functions import when\n",
    "\n",
    "# define a function to calculate the performance metrics for a given threshold\n",
    "def evaluate_threshold(threshold):\n",
    "    # create a new column with binary classification based on the threshold\n",
    "    rf_threshold_predictions = rf_predictions.withColumn(\"prediction\", when(rf_predictions.prob_positive >= threshold, 1.0).otherwise(0.0))\n",
    "    \n",
    "    # calculate TP, FN, FP, TN\n",
    "    tp = rf_threshold_predictions.filter(\"prediction = 1 AND isFraud = 1\").count()\n",
    "    fn = rf_threshold_predictions.filter(\"prediction = 0 AND isFraud = 1\").count()\n",
    "    fp = rf_threshold_predictions.filter(\"prediction = 1 AND isFraud = 0\").count()\n",
    "    tn = rf_threshold_predictions.filter(\"prediction = 0 AND isFraud = 0\").count()\n",
    "    \n",
    "    # calculate performance metrics\n",
    "    accuracy = (tp + tn) / (tp + tn + fp + fn)\n",
    "    # calculate the sensitivity and specificity of the logistic regression model with the given threshold\n",
    "    rf_sensitivity = tp / (tp + fn)\n",
    "    rf_specificity = tn / (tn + fp)\n",
    "    \n",
    "    # compute AUC\n",
    "    evaluator = BinaryClassificationEvaluator(rawPredictionCol=\"rawPrediction\", labelCol=\"isFraud\")\n",
    "    auc = evaluator.evaluate(rf_threshold_predictions)\n",
    "\n",
    "    print(\"Threshold: {:.1f}\".format(threshold))\n",
    "    # print confusion matrix and performance metrics\n",
    "    print(f\"Confusion matrix for threshold = {threshold}\")\n",
    "    print(np.array([[tn, fp], [fn, tp]]))\n",
    "    print(f\"Accuracy: {accuracy:.3f}\")\n",
    "    print(\"Sensitivity: {:.3f}\".format(rf_specificity))\n",
    "    print(\"Specificity: {:.3f}\".format(rf_specificity))\n",
    "    print(f\"AUC: {auc:.3f}\")\n",
    "    print(\"\\n\")\n",
    "\n",
    "# create an array of threshold values to test\n",
    "thresholds = [0.1, 0.2, 0.3, 0.4, 0.5, 0.6]\n",
    "\n",
    "# loop through each threshold value and evaluate the performance metrics\n",
    "for threshold in thresholds:\n",
    "    evaluate_threshold(threshold)"
   ]
  },
  {
   "cell_type": "markdown",
   "metadata": {},
   "source": [
    "At a threshold of 0.1, there is only one false negative, but the number of false positives is very high, which means that the model is classifying many non-fraudulent transactions as fraudulent. \n",
    "\n",
    "At a threshold of 0.5, the number of false negatives increases to 285, indicating that the model is missing a significant number of fraudulent transactions. However, the number of false positives is lower at this threshold, indicating that the model is classifying fewer non-fraudulent transactions as fraudulent."
   ]
  },
  {
   "cell_type": "markdown",
   "metadata": {
    "id": "m9cRUn3Ag9MI"
   },
   "source": [
    "**6.2.3 ROC Curve**"
   ]
  },
  {
   "cell_type": "code",
   "execution_count": 53,
   "metadata": {
    "colab": {
     "base_uri": "https://localhost:8080/",
     "height": 496
    },
    "execution": {
     "iopub.execute_input": "2023-05-14T15:38:00.255200Z",
     "iopub.status.busy": "2023-05-14T15:38:00.254909Z",
     "iopub.status.idle": "2023-05-14T15:38:20.552326Z",
     "shell.execute_reply": "2023-05-14T15:38:20.551024Z",
     "shell.execute_reply.started": "2023-05-14T15:38:00.255172Z"
    },
    "id": "kOIf6jqfg_oP",
    "outputId": "1f66a98f-ee68-4d09-9caf-c22cd924b64d"
   },
   "outputs": [
    {
     "name": "stderr",
     "output_type": "stream",
     "text": [
      "                                                                                \r"
     ]
    },
    {
     "data": {
      "image/png": "[encoded data removed]",
      "text/plain": [
       "<Figure size 500x500 with 1 Axes>"
      ]
     },
     "metadata": {},
     "output_type": "display_data"
    }
   ],
   "source": [
    "# plot the ROC curve\n",
    "rf_tpr = rf_model.bestModel.summary.roc.select('TPR').collect()\n",
    "rf_fpr = rf_model.bestModel.summary.roc.select('FPR').collect()\n",
    "plt.figure(figsize=(5,5))\n",
    "plt.plot([0, 1], [0, 1], 'r--')\n",
    "plt.plot(rf_fpr, rf_tpr)\n",
    "plt.xlabel('FPR')\n",
    "plt.ylabel('TPR')\n",
    "plt.title(\"ROC Curve\")\n",
    "plt.show()"
   ]
  },
  {
   "cell_type": "markdown",
   "metadata": {
    "id": "1wHYlwL3ER0G"
   },
   "source": [
    "#### 6.3 Gradient Boosted trees\n",
    "\n",
    "Applied cross-validation with Gradient Boosted Trees Classifier-  the performance of the model on the transformed test data was evaluated using the BinaryClassificationEvaluator with rawPredictionCol set to \"rawPrediction\" and labelCol set to \"isFraud\". The area under the curve (AUC) was calculated and stored in gbt_auc."
   ]
  },
  {
   "cell_type": "code",
   "execution_count": 54,
   "metadata": {
    "execution": {
     "iopub.execute_input": "2023-05-14T15:38:20.554029Z",
     "iopub.status.busy": "2023-05-14T15:38:20.553708Z",
     "iopub.status.idle": "2023-05-14T15:49:45.588549Z",
     "shell.execute_reply": "2023-05-14T15:49:45.587264Z",
     "shell.execute_reply.started": "2023-05-14T15:38:20.553999Z"
    },
    "id": "tN5f7G5UER0G"
   },
   "outputs": [
    {
     "name": "stderr",
     "output_type": "stream",
     "text": [
      "                                                                                \r"
     ]
    }
   ],
   "source": [
    "from pyspark.ml.classification import GBTClassifier\n",
    "\n",
    "\n",
    "# set up the parameter grid\n",
    "param_grid = ParamGridBuilder() \\\n",
    "    .addGrid(GBTClassifier.maxDepth, [5, 10]) \\\n",
    "    .addGrid(GBTClassifier.maxBins, [32, 64]) \\\n",
    "    .addGrid(GBTClassifier.maxIter, [15, 30]) \\\n",
    "    .build()\n",
    "\n",
    "# create a Gradient Boosted Trees Classifier model object\n",
    "gbt = GBTClassifier(featuresCol=\"scaled_features\", labelCol=\"isFraud\")\n",
    "\n",
    "# set up cross-validation\n",
    "evaluator = BinaryClassificationEvaluator(rawPredictionCol=\"rawPrediction\", labelCol=\"isFraud\")\n",
    "cv = CrossValidator(estimator=gbt, estimatorParamMaps=param_grid, evaluator=evaluator, numFolds=2)\n",
    "\n",
    "# fit the model to the transformed training data\n",
    "gbt_model = cv.fit(transformed_train_x)\n",
    "\n",
    "# use the best estimator from cross-validation to make predictions on the transformed test data\n",
    "best_gbt = gbt_model.bestModel\n",
    "gbt_predictions = best_gbt.transform(transformed_test_x)\n",
    "\n",
    "# evaluate the model's performance on the transformed test data\n",
    "gbt_evaluator = BinaryClassificationEvaluator(rawPredictionCol=\"rawPrediction\", labelCol=\"isFraud\")\n",
    "gbt_auc = gbt_evaluator.evaluate(gbt_predictions)"
   ]
  },
  {
   "cell_type": "markdown",
   "metadata": {
    "id": "SsEBVtjckSiK"
   },
   "source": [
    "**6.3.1 Predictions**\n",
    "\n",
    "Displaying the raw predictions, actual labels, and predicted labels for the first 10 transactions in the transformed test data."
   ]
  },
  {
   "cell_type": "code",
   "execution_count": 55,
   "metadata": {
    "colab": {
     "base_uri": "https://localhost:8080/"
    },
    "execution": {
     "iopub.execute_input": "2023-05-14T15:49:45.590234Z",
     "iopub.status.busy": "2023-05-14T15:49:45.589834Z",
     "iopub.status.idle": "2023-05-14T15:49:49.942998Z",
     "shell.execute_reply": "2023-05-14T15:49:49.942203Z",
     "shell.execute_reply.started": "2023-05-14T15:49:45.590203Z"
    },
    "id": "4RUUL-9pER0G",
    "outputId": "f617b1de-8961-45a9-bffb-4eb7acc1e7d0"
   },
   "outputs": [
    {
     "name": "stderr",
     "output_type": "stream",
     "text": [
      "[Stage 7620:>                                                       (0 + 1) / 1]\r"
     ]
    },
    {
     "name": "stdout",
     "output_type": "stream",
     "text": [
      "+--------------------+-------+----------+\n",
      "|       rawPrediction|isFraud|prediction|\n",
      "+--------------------+-------+----------+\n",
      "|[1.54384510432393...|      0|       0.0|\n",
      "|[1.54384510432393...|      0|       0.0|\n",
      "|[1.54384510432393...|      0|       0.0|\n",
      "|[1.54384510432393...|      0|       0.0|\n",
      "|[1.54384510432393...|      0|       0.0|\n",
      "|[1.54384510432393...|      0|       0.0|\n",
      "|[1.54384510432393...|      0|       0.0|\n",
      "|[1.54384510432393...|      0|       0.0|\n",
      "|[1.54384510432393...|      0|       0.0|\n",
      "|[1.54384510432393...|      0|       0.0|\n",
      "+--------------------+-------+----------+\n",
      "only showing top 10 rows\n",
      "\n"
     ]
    },
    {
     "name": "stderr",
     "output_type": "stream",
     "text": [
      "                                                                                \r"
     ]
    }
   ],
   "source": [
    "# check the predictions\n",
    "gbt_predictions.select('rawPrediction', 'isFraud','prediction').show(10)"
   ]
  },
  {
   "cell_type": "markdown",
   "metadata": {
    "id": "YDygkif0kXBR"
   },
   "source": [
    "**6.3.2 Sensitivity, Specificity, AUC: Different Thresholds**\n",
    "\n",
    "Computing confusion matrix with default Threshold = 0.5:"
   ]
  },
  {
   "cell_type": "code",
   "execution_count": 56,
   "metadata": {
    "colab": {
     "base_uri": "https://localhost:8080/"
    },
    "execution": {
     "iopub.execute_input": "2023-05-14T15:49:49.944226Z",
     "iopub.status.busy": "2023-05-14T15:49:49.943933Z",
     "iopub.status.idle": "2023-05-14T15:50:29.020465Z",
     "shell.execute_reply": "2023-05-14T15:50:29.019322Z",
     "shell.execute_reply.started": "2023-05-14T15:49:49.944202Z"
    },
    "id": "SONGJXxQER0H",
    "outputId": "3a6b717f-78f5-4e6d-aad0-07bffcc60953"
   },
   "outputs": [
    {
     "name": "stderr",
     "output_type": "stream",
     "text": [
      "[Stage 7630:============================>                           (2 + 2) / 4]\r"
     ]
    },
    {
     "name": "stdout",
     "output_type": "stream",
     "text": [
      "True Positive:  289\n",
      "True Negative:  205732\n",
      "False Positive:  4365\n",
      "False Negative:  15\n"
     ]
    },
    {
     "name": "stderr",
     "output_type": "stream",
     "text": [
      "                                                                                \r"
     ]
    }
   ],
   "source": [
    "# compute the confusion matrix for the gradient boosted trees model\n",
    "tp = gbt_predictions.filter(\"isFraud = 1 and prediction = 1\").count()\n",
    "tn = gbt_predictions.filter(\"isFraud = 0 and prediction = 0\").count()\n",
    "fp = gbt_predictions.filter(\"isFraud = 0 and prediction = 1\").count()\n",
    "fn = gbt_predictions.filter(\"isFraud = 1 and prediction = 0\").count()\n",
    "\n",
    "#tp, tn, fp, fn\n",
    "print(\"True Positive: \",tp)\n",
    "print(\"True Negative: \",tn)\n",
    "print(\"False Positive: \",fp)\n",
    "print(\"False Negative: \",fn)"
   ]
  },
  {
   "cell_type": "markdown",
   "metadata": {
    "id": "CjpeqhpZl285"
   },
   "source": [
    "**Computing confusion matrix with different threshold values: [0.1, 0.2, 0.3, 0.4, 0.5, 0.6]**"
   ]
  },
  {
   "cell_type": "code",
   "execution_count": 57,
   "metadata": {
    "execution": {
     "iopub.execute_input": "2023-05-14T15:50:29.021966Z",
     "iopub.status.busy": "2023-05-14T15:50:29.021605Z",
     "iopub.status.idle": "2023-05-14T15:50:29.056231Z",
     "shell.execute_reply": "2023-05-14T15:50:29.055171Z",
     "shell.execute_reply.started": "2023-05-14T15:50:29.021932Z"
    },
    "id": "HQic5_ewLUW2"
   },
   "outputs": [],
   "source": [
    "from pyspark.sql.functions import udf\n",
    "from pyspark.sql.types import DoubleType\n",
    "\n",
    "# define a UDF to extract the probability for the positive class\n",
    "get_positive_prob = udf(lambda x: float(x[0]), DoubleType())\n",
    "\n",
    "# create a new column with the probability for the positive class\n",
    "gbt_predictions = gbt_predictions.withColumn(\"prob_positive\", get_positive_prob(gbt_predictions.probability))"
   ]
  },
  {
   "cell_type": "code",
   "execution_count": 58,
   "metadata": {
    "colab": {
     "background_save": true,
     "base_uri": "https://localhost:8080/"
    },
    "execution": {
     "iopub.execute_input": "2023-05-14T15:50:29.057775Z",
     "iopub.status.busy": "2023-05-14T15:50:29.057388Z",
     "iopub.status.idle": "2023-05-14T15:55:39.001363Z",
     "shell.execute_reply": "2023-05-14T15:55:39.000158Z",
     "shell.execute_reply.started": "2023-05-14T15:50:29.057742Z"
    },
    "id": "ZZIXEKbzLUgT",
    "outputId": "e8193b7d-c4f0-4ddd-8fa2-f42b380d6d34"
   },
   "outputs": [
    {
     "name": "stderr",
     "output_type": "stream",
     "text": [
      "/opt/conda/lib/python3.10/site-packages/scipy/__init__.py:146: UserWarning: A NumPy version >=1.16.5 and <1.23.0 is required for this version of SciPy (detected version 1.23.5\n",
      "  warnings.warn(f\"A NumPy version >={np_minversion} and <{np_maxversion}\"\n",
      "/opt/conda/lib/python3.10/site-packages/scipy/__init__.py:146: UserWarning: A NumPy version >=1.16.5 and <1.23.0 is required for this version of SciPy (detected version 1.23.5\n",
      "  warnings.warn(f\"A NumPy version >={np_minversion} and <{np_maxversion}\"\n",
      "/opt/conda/lib/python3.10/site-packages/scipy/__init__.py:146: UserWarning: A NumPy version >=1.16.5 and <1.23.0 is required for this version of SciPy (detected version 1.23.5\n",
      "  warnings.warn(f\"A NumPy version >={np_minversion} and <{np_maxversion}\"\n",
      "/opt/conda/lib/python3.10/site-packages/scipy/__init__.py:146: UserWarning: A NumPy version >=1.16.5 and <1.23.0 is required for this version of SciPy (detected version 1.23.5\n",
      "  warnings.warn(f\"A NumPy version >={np_minversion} and <{np_maxversion}\"\n",
      "                                                                                \r"
     ]
    },
    {
     "name": "stdout",
     "output_type": "stream",
     "text": [
      "Threshold: 0.1\n",
      "Confusion matrix for threshold = 0.1\n",
      "[[   556 209541]\n",
      " [   262     42]]\n",
      "Accuracy: 0.003\n",
      "Sensitivity: 0.003\n",
      "Specificity: 0.003\n",
      "AUC: 0.996\n",
      "\n",
      "\n"
     ]
    },
    {
     "name": "stderr",
     "output_type": "stream",
     "text": [
      "                                                                                \r"
     ]
    },
    {
     "name": "stdout",
     "output_type": "stream",
     "text": [
      "Threshold: 0.2\n",
      "Confusion matrix for threshold = 0.2\n",
      "[[  2049 208048]\n",
      " [   281     23]]\n",
      "Accuracy: 0.010\n",
      "Sensitivity: 0.010\n",
      "Specificity: 0.010\n",
      "AUC: 0.996\n",
      "\n",
      "\n"
     ]
    },
    {
     "name": "stderr",
     "output_type": "stream",
     "text": [
      "                                                                                \r"
     ]
    },
    {
     "name": "stdout",
     "output_type": "stream",
     "text": [
      "Threshold: 0.3\n",
      "Confusion matrix for threshold = 0.3\n",
      "[[  3106 206991]\n",
      " [   284     20]]\n",
      "Accuracy: 0.015\n",
      "Sensitivity: 0.015\n",
      "Specificity: 0.015\n",
      "AUC: 0.996\n",
      "\n",
      "\n"
     ]
    },
    {
     "name": "stderr",
     "output_type": "stream",
     "text": [
      "                                                                                \r"
     ]
    },
    {
     "name": "stdout",
     "output_type": "stream",
     "text": [
      "Threshold: 0.4\n",
      "Confusion matrix for threshold = 0.4\n",
      "[[  3796 206301]\n",
      " [   286     18]]\n",
      "Accuracy: 0.018\n",
      "Sensitivity: 0.018\n",
      "Specificity: 0.018\n",
      "AUC: 0.996\n",
      "\n",
      "\n"
     ]
    },
    {
     "name": "stderr",
     "output_type": "stream",
     "text": [
      "                                                                                \r"
     ]
    },
    {
     "name": "stdout",
     "output_type": "stream",
     "text": [
      "Threshold: 0.5\n",
      "Confusion matrix for threshold = 0.5\n",
      "[[  4365 205732]\n",
      " [   289     15]]\n",
      "Accuracy: 0.021\n",
      "Sensitivity: 0.021\n",
      "Specificity: 0.021\n",
      "AUC: 0.996\n",
      "\n",
      "\n"
     ]
    },
    {
     "name": "stderr",
     "output_type": "stream",
     "text": [
      "                                                                                \r"
     ]
    },
    {
     "name": "stdout",
     "output_type": "stream",
     "text": [
      "Threshold: 0.6\n",
      "Confusion matrix for threshold = 0.6\n",
      "[[  6251 203846]\n",
      " [   291     13]]\n",
      "Accuracy: 0.030\n",
      "Sensitivity: 0.030\n",
      "Specificity: 0.030\n",
      "AUC: 0.996\n",
      "\n",
      "\n"
     ]
    }
   ],
   "source": [
    "from pyspark.sql.functions import when\n",
    "\n",
    "# define a function to calculate the performance metrics for a given threshold\n",
    "def evaluate_threshold(threshold):\n",
    "    # create a new column with binary classification based on the threshold\n",
    "    gbt_threshold_predictions = gbt_predictions.withColumn(\"prediction\", when(gbt_predictions.prob_positive >= threshold, 1.0).otherwise(0.0))\n",
    "    \n",
    "    # calculate TP, FN, FP, TN\n",
    "    tp = gbt_threshold_predictions.filter(\"prediction = 1 AND isFraud = 1\").count()\n",
    "    fn = gbt_threshold_predictions.filter(\"prediction = 0 AND isFraud = 1\").count()\n",
    "    fp = gbt_threshold_predictions.filter(\"prediction = 1 AND isFraud = 0\").count()\n",
    "    tn = gbt_threshold_predictions.filter(\"prediction = 0 AND isFraud = 0\").count()\n",
    "    \n",
    "    # calculate performance metrics\n",
    "    accuracy = (tp + tn) / (tp + tn + fp + fn)\n",
    "    # calculate the sensitivity and specificity of the logistic regression model with the given threshold\n",
    "    gbt_sensitivity = tp / (tp + fn)\n",
    "    gbt_specificity = tn / (tn + fp)\n",
    "    \n",
    "    # compute AUC\n",
    "    evaluator = BinaryClassificationEvaluator(rawPredictionCol=\"rawPrediction\", labelCol=\"isFraud\")\n",
    "    auc = evaluator.evaluate(gbt_threshold_predictions)\n",
    "\n",
    "    print(\"Threshold: {:.1f}\".format(threshold))\n",
    "    # print confusion matrix and performance metrics\n",
    "    print(f\"Confusion matrix for threshold = {threshold}\")\n",
    "    print(np.array([[tn, fp], [fn, tp]]))\n",
    "    print(f\"Accuracy: {accuracy:.3f}\")\n",
    "    print(\"Sensitivity: {:.3f}\".format(gbt_specificity))\n",
    "    print(\"Specificity: {:.3f}\".format(gbt_specificity))\n",
    "    print(f\"AUC: {auc:.3f}\")\n",
    "    print(\"\\n\")\n",
    "\n",
    "# create an array of threshold values to test\n",
    "thresholds = [0.1, 0.2, 0.3, 0.4, 0.5, 0.6]\n",
    "\n",
    "# loop through each threshold value and evaluate the performance metrics\n",
    "for threshold in thresholds:\n",
    "    evaluate_threshold(threshold)"
   ]
  },
  {
   "cell_type": "markdown",
   "metadata": {},
   "source": [
    "At a threshold of 0.2, the number of false negatives reduced compared to the previous threshold (208048), but it is still a relatively high number. The model predicted only 23 out of 304743 fraudulent transactions correctly, indicating that it missed a significant number of fraudulent transactions.\n",
    "\n",
    "At a threshold of 0.3, the number of false negatives further reduced to 284, but it is still a large number considering the total number of fraudulent transactions in the dataset.\n",
    "\n",
    "In fraud detection cases, the focus is typically on reducing the number of false negatives as much as possible to ensure that fraudulent transactions are not missed and hence i focus on lower thresholds for the same."
   ]
  },
  {
   "cell_type": "markdown",
   "metadata": {
    "id": "VdLqqrvLj-Au"
   },
   "source": [
    "**6.3.3 ROC Curve**\n",
    "\n",
    "GBTClassificationModel doesn't have summary attribute to get ROC. Hence defining the below class to get ROCCurveMetrics:"
   ]
  },
  {
   "cell_type": "code",
   "execution_count": 60,
   "metadata": {
    "colab": {
     "background_save": true
    },
    "execution": {
     "iopub.execute_input": "2023-05-14T15:59:30.431926Z",
     "iopub.status.busy": "2023-05-14T15:59:30.431637Z",
     "iopub.status.idle": "2023-05-14T15:59:50.472272Z",
     "shell.execute_reply": "2023-05-14T15:59:50.470760Z",
     "shell.execute_reply.started": "2023-05-14T15:59:30.431901Z"
    },
    "id": "GWZBEU9vER0H",
    "outputId": "4793c8dd-e19e-4663-8482-c08dd030e0a7"
   },
   "outputs": [
    {
     "name": "stderr",
     "output_type": "stream",
     "text": [
      "/opt/conda/lib/python3.10/site-packages/pyspark/sql/context.py:157: FutureWarning: Deprecated in 3.0.0. Use SparkSession.builder.getOrCreate() instead.\n",
      "  warnings.warn(\n",
      "/opt/conda/lib/python3.10/site-packages/scipy/__init__.py:146: UserWarning: A NumPy version >=1.16.5 and <1.23.0 is required for this version of SciPy (detected version 1.23.5\n",
      "  warnings.warn(f\"A NumPy version >={np_minversion} and <{np_maxversion}\"\n",
      "/opt/conda/lib/python3.10/site-packages/scipy/__init__.py:146: UserWarning: A NumPy version >=1.16.5 and <1.23.0 is required for this version of SciPy (detected version 1.23.5\n",
      "  warnings.warn(f\"A NumPy version >={np_minversion} and <{np_maxversion}\"\n",
      "/opt/conda/lib/python3.10/site-packages/scipy/__init__.py:146: UserWarning: A NumPy version >=1.16.5 and <1.23.0 is required for this version of SciPy (detected version 1.23.5\n",
      "  warnings.warn(f\"A NumPy version >={np_minversion} and <{np_maxversion}\"\n",
      "/opt/conda/lib/python3.10/site-packages/scipy/__init__.py:146: UserWarning: A NumPy version >=1.16.5 and <1.23.0 is required for this version of SciPy (detected version 1.23.5\n",
      "  warnings.warn(f\"A NumPy version >={np_minversion} and <{np_maxversion}\"\n",
      "/opt/conda/lib/python3.10/site-packages/scipy/__init__.py:146: UserWarning: A NumPy version >=1.16.5 and <1.23.0 is required for this version of SciPy (detected version 1.23.5\n",
      "  warnings.warn(f\"A NumPy version >={np_minversion} and <{np_maxversion}\"\n",
      "                                                                                \r"
     ]
    },
    {
     "data": {
      "image/png": "[encoded data removed]",
      "text/plain": [
       "<Figure size 500x500 with 1 Axes>"
      ]
     },
     "metadata": {},
     "output_type": "display_data"
    }
   ],
   "source": [
    "class ROCCurveMetrics(BinaryClassificationMetrics):\n",
    "    def __init__(self, *args):\n",
    "        super(ROCCurveMetrics, self).__init__(*args)\n",
    "\n",
    "    def _to_list(self, rdd):\n",
    "        co_ords = []\n",
    "        for data in rdd.collect():\n",
    "            co_ords += [(float(data._1()), float(data._2()))]\n",
    "        return co_ords\n",
    "\n",
    "    def get_roc(self):\n",
    "        rdd = getattr(self._java_model, 'roc')().toJavaRDD()\n",
    "        return self._to_list(rdd)\n",
    "# plot the ROC curve\n",
    "results = gbt_predictions.select('isFraud','probability').rdd.map(lambda row: (float(row['probability'][1]), float(row['isFraud'])))\n",
    "data_points = ROCCurveMetrics(results).get_roc()\n",
    "gbt_fpr = []\n",
    "gbt_tpr = []\n",
    "for data in data_points:\n",
    "  gbt_fpr.append(data[0])\n",
    "  gbt_tpr.append(data[1])\n",
    "plt.figure(figsize=(5,5))\n",
    "plt.title('ROC Curve')\n",
    "plt.xlabel('FPR')\n",
    "plt.ylabel('TPR')\n",
    "plt.plot([0, 1], [0, 1], 'r--')\n",
    "plt.plot(gbt_fpr, gbt_tpr)\n",
    "plt.show()    "
   ]
  },
  {
   "cell_type": "markdown",
   "metadata": {},
   "source": [
    "### 7. Conclusion \n",
    "\n",
    "In this fraud detection case, as i am are interested in detecting false negatives or fraud cases that were missed by the model. So, the model with higher sensitivity at lower thresholds would be better for this case. \n",
    "\n",
    "Looking at the sensitivity values for the different thresholds of the three models, it's sees that the gradient boosted trees model performs the best at lower thresholds, followed by the logistic regression model, and then the random forest model. \n",
    "\n",
    "For example, at a threshold of 0.1, the sensitivity of the logistic regression model is 0.250, while the sensitivity of the random forest model is 0.000 and the sensitivity of the gradient boosted trees model is 0.003. \n",
    "\n",
    "At a threshold of 0.2, the sensitivity of the logistic regression model is 0.184, while the sensitivity of the random forest model is 0.010 and the sensitivity of the gradient boosted trees model is 0.010. \n",
    "\n",
    "At a threshold of 0.3, the sensitivity of the logistic regression model is 0.148, while the sensitivity of the random forest model is 0.022 and the sensitivity of the gradient boosted trees model is 0.015.\n",
    "\n",
    "Overall, the gradient boosted trees model performs the best at lower thresholds for detecting fraud cases that were missed by the model.\n",
    "\n",
    "\n",
    "### 8. References:\n",
    "\n",
    "1. https://mlopshowto.com/detecting-financial-fraud-using-machine-learning-three-ways-of-winning-the-war-against-imbalanced-a03f8815cce9\n",
    "\n",
    "2. https://www.mdpi.com/2673-2688/4/1/8\n",
    "\n",
    "3. https://www.kdnuggets.com/2017/06/7-techniques-handle-imbalanced-data.html\n",
    "\n",
    "4. https://towardsdatascience.com/methods-for-dealing-with-imbalanced-data-5b761be45a18\n",
    "\n",
    "6. https://fin.plaid.com/articles/model-tradeoffs-and-error-types/"
   ]
  }
 ],
 "metadata": {
  "colab": {
   "provenance": []
  },
  "kernelspec": {
   "display_name": "Python 3 (ipykernel)",
   "language": "python",
   "name": "python3"
  },
  "language_info": {
   "codemirror_mode": {
    "name": "ipython",
    "version": 3
   },
   "file_extension": ".py",
   "mimetype": "text/x-python",
   "name": "python",
   "nbconvert_exporter": "python",
   "pygments_lexer": "ipython3",
   "version": "3.9.13"
  }
 },
 "nbformat": 4,
 "nbformat_minor": 4
}
